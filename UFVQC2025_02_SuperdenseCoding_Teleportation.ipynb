{
  "cells": [
    {
      "cell_type": "markdown",
      "metadata": {
        "id": "view-in-github",
        "colab_type": "text"
      },
      "source": [
        "<a href=\"https://colab.research.google.com/github/PaulaDiz/QUANTUM_COMPUTING/blob/main/UFVQC2025_02_SuperdenseCoding_Teleportation.ipynb\" target=\"_parent\"><img src=\"https://colab.research.google.com/assets/colab-badge.svg\" alt=\"Open In Colab\"/></a>"
      ]
    },
    {
      "cell_type": "markdown",
      "metadata": {
        "id": "27w0ANlilI5Y"
      },
      "source": [
        "# UFV QC 03 Lab - Superdense Coding & Teleportation"
      ]
    },
    {
      "cell_type": "markdown",
      "metadata": {
        "id": "bPjrm0qhlI5h"
      },
      "source": [
        "### Objective\n",
        "Let's create our first quantum protocols.\n",
        "In this lab we will get learn a bit more about programming with Qiskit, and see three protocols.\n",
        "\n",
        "We will see the following:\n",
        "\n",
        "1. Classical Conditionals\n",
        "2. Custom Gates\n",
        "3. Superdense Coding\n",
        "4. Teleportation Protocol\n",
        "5. Teleportation of Entanglement"
      ]
    },
    {
      "cell_type": "markdown",
      "metadata": {
        "id": "L5Cs-xZ4lI5j"
      },
      "source": [
        "# 1. Classical conditionals\n",
        "\n",
        "Imagine we have a quantum circuit, where we want to apply a gate based on the state of a classical Bit.\n",
        "\n",
        "In Qiskit, we solve this using the `c_if()` instruction."
      ]
    },
    {
      "cell_type": "code",
      "execution_count": null,
      "metadata": {
        "colab": {
          "base_uri": "https://localhost:8080/",
          "height": 1000
        },
        "id": "qlZyD7ZtlI5k",
        "outputId": "d9ce4adc-6d68-4b0c-d6f6-193bbfd1367d"
      },
      "outputs": [
        {
          "output_type": "stream",
          "name": "stdout",
          "text": [
            "Collecting qiskit\n",
            "  Downloading qiskit-1.3.2-cp39-abi3-manylinux_2_17_x86_64.manylinux2014_x86_64.whl.metadata (12 kB)\n",
            "Collecting qiskit-ibm-runtime\n",
            "  Downloading qiskit_ibm_runtime-0.36.1-py3-none-any.whl.metadata (20 kB)\n",
            "Collecting rustworkx>=0.15.0 (from qiskit)\n",
            "  Downloading rustworkx-0.16.0-cp39-abi3-manylinux_2_17_x86_64.manylinux2014_x86_64.whl.metadata (10 kB)\n",
            "Requirement already satisfied: numpy<3,>=1.17 in /usr/local/lib/python3.11/dist-packages (from qiskit) (1.26.4)\n",
            "Requirement already satisfied: scipy>=1.5 in /usr/local/lib/python3.11/dist-packages (from qiskit) (1.13.1)\n",
            "Requirement already satisfied: sympy>=1.3 in /usr/local/lib/python3.11/dist-packages (from qiskit) (1.13.1)\n",
            "Collecting dill>=0.3 (from qiskit)\n",
            "  Downloading dill-0.3.9-py3-none-any.whl.metadata (10 kB)\n",
            "Requirement already satisfied: python-dateutil>=2.8.0 in /usr/local/lib/python3.11/dist-packages (from qiskit) (2.8.2)\n",
            "Collecting stevedore>=3.0.0 (from qiskit)\n",
            "  Downloading stevedore-5.4.0-py3-none-any.whl.metadata (2.3 kB)\n",
            "Requirement already satisfied: typing-extensions in /usr/local/lib/python3.11/dist-packages (from qiskit) (4.12.2)\n",
            "Collecting symengine<0.14,>=0.11 (from qiskit)\n",
            "  Downloading symengine-0.13.0-cp311-cp311-manylinux_2_17_x86_64.manylinux2014_x86_64.whl.metadata (1.2 kB)\n",
            "Requirement already satisfied: requests>=2.19 in /usr/local/lib/python3.11/dist-packages (from qiskit-ibm-runtime) (2.32.3)\n",
            "Collecting requests-ntlm>=1.1.0 (from qiskit-ibm-runtime)\n",
            "  Downloading requests_ntlm-1.3.0-py3-none-any.whl.metadata (2.4 kB)\n",
            "Requirement already satisfied: urllib3>=1.21.1 in /usr/local/lib/python3.11/dist-packages (from qiskit-ibm-runtime) (2.3.0)\n",
            "Requirement already satisfied: websocket-client>=1.5.1 in /usr/local/lib/python3.11/dist-packages (from qiskit-ibm-runtime) (1.8.0)\n",
            "Collecting ibm-platform-services>=0.22.6 (from qiskit-ibm-runtime)\n",
            "  Downloading ibm_platform_services-0.59.1-py3-none-any.whl.metadata (9.0 kB)\n",
            "Collecting pydantic<2.10,>=2.5.0 (from qiskit-ibm-runtime)\n",
            "  Downloading pydantic-2.9.2-py3-none-any.whl.metadata (149 kB)\n",
            "\u001b[2K     \u001b[90m━━━━━━━━━━━━━━━━━━━━━━━━━━━━━━━━━━━━━━━━\u001b[0m \u001b[32m149.4/149.4 kB\u001b[0m \u001b[31m4.6 MB/s\u001b[0m eta \u001b[36m0:00:00\u001b[0m\n",
            "\u001b[?25hRequirement already satisfied: matplotlib>=3.3 in /usr/local/lib/python3.11/dist-packages (from qiskit[visualization]) (3.10.0)\n",
            "Requirement already satisfied: pydot in /usr/local/lib/python3.11/dist-packages (from qiskit[visualization]) (3.0.4)\n",
            "Requirement already satisfied: Pillow>=4.2.1 in /usr/local/lib/python3.11/dist-packages (from qiskit[visualization]) (11.1.0)\n",
            "Collecting pylatexenc>=1.4 (from qiskit[visualization])\n",
            "  Downloading pylatexenc-2.10.tar.gz (162 kB)\n",
            "\u001b[2K     \u001b[90m━━━━━━━━━━━━━━━━━━━━━━━━━━━━━━━━━━━━━━━━\u001b[0m \u001b[32m162.6/162.6 kB\u001b[0m \u001b[31m13.6 MB/s\u001b[0m eta \u001b[36m0:00:00\u001b[0m\n",
            "\u001b[?25h  Preparing metadata (setup.py) ... \u001b[?25l\u001b[?25hdone\n",
            "Requirement already satisfied: seaborn>=0.9.0 in /usr/local/lib/python3.11/dist-packages (from qiskit[visualization]) (0.13.2)\n",
            "Collecting ibm_cloud_sdk_core<4.0.0,>=3.22.0 (from ibm-platform-services>=0.22.6->qiskit-ibm-runtime)\n",
            "  Downloading ibm_cloud_sdk_core-3.22.1-py3-none-any.whl.metadata (8.6 kB)\n",
            "Requirement already satisfied: contourpy>=1.0.1 in /usr/local/lib/python3.11/dist-packages (from matplotlib>=3.3->qiskit[visualization]) (1.3.1)\n",
            "Requirement already satisfied: cycler>=0.10 in /usr/local/lib/python3.11/dist-packages (from matplotlib>=3.3->qiskit[visualization]) (0.12.1)\n",
            "Requirement already satisfied: fonttools>=4.22.0 in /usr/local/lib/python3.11/dist-packages (from matplotlib>=3.3->qiskit[visualization]) (4.56.0)\n",
            "Requirement already satisfied: kiwisolver>=1.3.1 in /usr/local/lib/python3.11/dist-packages (from matplotlib>=3.3->qiskit[visualization]) (1.4.8)\n",
            "Requirement already satisfied: packaging>=20.0 in /usr/local/lib/python3.11/dist-packages (from matplotlib>=3.3->qiskit[visualization]) (24.2)\n",
            "Requirement already satisfied: pyparsing>=2.3.1 in /usr/local/lib/python3.11/dist-packages (from matplotlib>=3.3->qiskit[visualization]) (3.2.1)\n",
            "Requirement already satisfied: annotated-types>=0.6.0 in /usr/local/lib/python3.11/dist-packages (from pydantic<2.10,>=2.5.0->qiskit-ibm-runtime) (0.7.0)\n",
            "Collecting pydantic-core==2.23.4 (from pydantic<2.10,>=2.5.0->qiskit-ibm-runtime)\n",
            "  Downloading pydantic_core-2.23.4-cp311-cp311-manylinux_2_17_x86_64.manylinux2014_x86_64.whl.metadata (6.6 kB)\n",
            "Requirement already satisfied: six>=1.5 in /usr/local/lib/python3.11/dist-packages (from python-dateutil>=2.8.0->qiskit) (1.17.0)\n",
            "Requirement already satisfied: charset-normalizer<4,>=2 in /usr/local/lib/python3.11/dist-packages (from requests>=2.19->qiskit-ibm-runtime) (3.4.1)\n",
            "Requirement already satisfied: idna<4,>=2.5 in /usr/local/lib/python3.11/dist-packages (from requests>=2.19->qiskit-ibm-runtime) (3.10)\n",
            "Requirement already satisfied: certifi>=2017.4.17 in /usr/local/lib/python3.11/dist-packages (from requests>=2.19->qiskit-ibm-runtime) (2025.1.31)\n",
            "Requirement already satisfied: cryptography>=1.3 in /usr/local/lib/python3.11/dist-packages (from requests-ntlm>=1.1.0->qiskit-ibm-runtime) (43.0.3)\n",
            "Collecting pyspnego>=0.4.0 (from requests-ntlm>=1.1.0->qiskit-ibm-runtime)\n",
            "  Downloading pyspnego-0.11.2-py3-none-any.whl.metadata (5.4 kB)\n",
            "Requirement already satisfied: pandas>=1.2 in /usr/local/lib/python3.11/dist-packages (from seaborn>=0.9.0->qiskit[visualization]) (2.2.2)\n",
            "Collecting pbr>=2.0.0 (from stevedore>=3.0.0->qiskit)\n",
            "  Downloading pbr-6.1.1-py2.py3-none-any.whl.metadata (3.4 kB)\n",
            "Requirement already satisfied: mpmath<1.4,>=1.1.0 in /usr/local/lib/python3.11/dist-packages (from sympy>=1.3->qiskit) (1.3.0)\n",
            "Requirement already satisfied: cffi>=1.12 in /usr/local/lib/python3.11/dist-packages (from cryptography>=1.3->requests-ntlm>=1.1.0->qiskit-ibm-runtime) (1.17.1)\n",
            "Requirement already satisfied: PyJWT<3.0.0,>=2.8.0 in /usr/local/lib/python3.11/dist-packages (from ibm_cloud_sdk_core<4.0.0,>=3.22.0->ibm-platform-services>=0.22.6->qiskit-ibm-runtime) (2.10.1)\n",
            "Requirement already satisfied: pytz>=2020.1 in /usr/local/lib/python3.11/dist-packages (from pandas>=1.2->seaborn>=0.9.0->qiskit[visualization]) (2025.1)\n",
            "Requirement already satisfied: tzdata>=2022.7 in /usr/local/lib/python3.11/dist-packages (from pandas>=1.2->seaborn>=0.9.0->qiskit[visualization]) (2025.1)\n",
            "Requirement already satisfied: setuptools in /usr/local/lib/python3.11/dist-packages (from pbr>=2.0.0->stevedore>=3.0.0->qiskit) (75.1.0)\n",
            "Requirement already satisfied: pycparser in /usr/local/lib/python3.11/dist-packages (from cffi>=1.12->cryptography>=1.3->requests-ntlm>=1.1.0->qiskit-ibm-runtime) (2.22)\n",
            "Downloading qiskit-1.3.2-cp39-abi3-manylinux_2_17_x86_64.manylinux2014_x86_64.whl (6.8 MB)\n",
            "\u001b[2K   \u001b[90m━━━━━━━━━━━━━━━━━━━━━━━━━━━━━━━━━━━━━━━━\u001b[0m \u001b[32m6.8/6.8 MB\u001b[0m \u001b[31m61.3 MB/s\u001b[0m eta \u001b[36m0:00:00\u001b[0m\n",
            "\u001b[?25hDownloading qiskit_ibm_runtime-0.36.1-py3-none-any.whl (3.1 MB)\n",
            "\u001b[2K   \u001b[90m━━━━━━━━━━━━━━━━━━━━━━━━━━━━━━━━━━━━━━━━\u001b[0m \u001b[32m3.1/3.1 MB\u001b[0m \u001b[31m66.6 MB/s\u001b[0m eta \u001b[36m0:00:00\u001b[0m\n",
            "\u001b[?25hDownloading dill-0.3.9-py3-none-any.whl (119 kB)\n",
            "\u001b[2K   \u001b[90m━━━━━━━━━━━━━━━━━━━━━━━━━━━━━━━━━━━━━━━━\u001b[0m \u001b[32m119.4/119.4 kB\u001b[0m \u001b[31m10.2 MB/s\u001b[0m eta \u001b[36m0:00:00\u001b[0m\n",
            "\u001b[?25hDownloading ibm_platform_services-0.59.1-py3-none-any.whl (340 kB)\n",
            "\u001b[2K   \u001b[90m━━━━━━━━━━━━━━━━━━━━━━━━━━━━━━━━━━━━━━━━\u001b[0m \u001b[32m340.8/340.8 kB\u001b[0m \u001b[31m23.7 MB/s\u001b[0m eta \u001b[36m0:00:00\u001b[0m\n",
            "\u001b[?25hDownloading pydantic-2.9.2-py3-none-any.whl (434 kB)\n",
            "\u001b[2K   \u001b[90m━━━━━━━━━━━━━━━━━━━━━━━━━━━━━━━━━━━━━━━━\u001b[0m \u001b[32m434.9/434.9 kB\u001b[0m \u001b[31m32.0 MB/s\u001b[0m eta \u001b[36m0:00:00\u001b[0m\n",
            "\u001b[?25hDownloading pydantic_core-2.23.4-cp311-cp311-manylinux_2_17_x86_64.manylinux2014_x86_64.whl (2.1 MB)\n",
            "\u001b[2K   \u001b[90m━━━━━━━━━━━━━━━━━━━━━━━━━━━━━━━━━━━━━━━━\u001b[0m \u001b[32m2.1/2.1 MB\u001b[0m \u001b[31m74.6 MB/s\u001b[0m eta \u001b[36m0:00:00\u001b[0m\n",
            "\u001b[?25hDownloading requests_ntlm-1.3.0-py3-none-any.whl (6.6 kB)\n",
            "Downloading rustworkx-0.16.0-cp39-abi3-manylinux_2_17_x86_64.manylinux2014_x86_64.whl (2.1 MB)\n",
            "\u001b[2K   \u001b[90m━━━━━━━━━━━━━━━━━━━━━━━━━━━━━━━━━━━━━━━━\u001b[0m \u001b[32m2.1/2.1 MB\u001b[0m \u001b[31m70.6 MB/s\u001b[0m eta \u001b[36m0:00:00\u001b[0m\n",
            "\u001b[?25hDownloading stevedore-5.4.0-py3-none-any.whl (49 kB)\n",
            "\u001b[2K   \u001b[90m━━━━━━━━━━━━━━━━━━━━━━━━━━━━━━━━━━━━━━━━\u001b[0m \u001b[32m49.5/49.5 kB\u001b[0m \u001b[31m3.5 MB/s\u001b[0m eta \u001b[36m0:00:00\u001b[0m\n",
            "\u001b[?25hDownloading symengine-0.13.0-cp311-cp311-manylinux_2_17_x86_64.manylinux2014_x86_64.whl (49.7 MB)\n",
            "\u001b[2K   \u001b[90m━━━━━━━━━━━━━━━━━━━━━━━━━━━━━━━━━━━━━━━━\u001b[0m \u001b[32m49.7/49.7 MB\u001b[0m \u001b[31m11.6 MB/s\u001b[0m eta \u001b[36m0:00:00\u001b[0m\n",
            "\u001b[?25hDownloading ibm_cloud_sdk_core-3.22.1-py3-none-any.whl (69 kB)\n",
            "\u001b[2K   \u001b[90m━━━━━━━━━━━━━━━━━━━━━━━━━━━━━━━━━━━━━━━━\u001b[0m \u001b[32m69.4/69.4 kB\u001b[0m \u001b[31m5.7 MB/s\u001b[0m eta \u001b[36m0:00:00\u001b[0m\n",
            "\u001b[?25hDownloading pbr-6.1.1-py2.py3-none-any.whl (108 kB)\n",
            "\u001b[2K   \u001b[90m━━━━━━━━━━━━━━━━━━━━━━━━━━━━━━━━━━━━━━━━\u001b[0m \u001b[32m109.0/109.0 kB\u001b[0m \u001b[31m8.4 MB/s\u001b[0m eta \u001b[36m0:00:00\u001b[0m\n",
            "\u001b[?25hDownloading pyspnego-0.11.2-py3-none-any.whl (130 kB)\n",
            "\u001b[2K   \u001b[90m━━━━━━━━━━━━━━━━━━━━━━━━━━━━━━━━━━━━━━━━\u001b[0m \u001b[32m130.5/130.5 kB\u001b[0m \u001b[31m11.6 MB/s\u001b[0m eta \u001b[36m0:00:00\u001b[0m\n",
            "\u001b[?25hBuilding wheels for collected packages: pylatexenc\n",
            "  Building wheel for pylatexenc (setup.py) ... \u001b[?25l\u001b[?25hdone\n",
            "  Created wheel for pylatexenc: filename=pylatexenc-2.10-py3-none-any.whl size=136816 sha256=25902c506580043c2baa1073835d25c0baf4cd22ebe1a7700f8c381bf0f8e498\n",
            "  Stored in directory: /root/.cache/pip/wheels/b1/7a/33/9fdd892f784ed4afda62b685ae3703adf4c91aa0f524c28f03\n",
            "Successfully built pylatexenc\n",
            "Installing collected packages: pylatexenc, symengine, rustworkx, pydantic-core, pbr, dill, stevedore, pydantic, ibm_cloud_sdk_core, qiskit, pyspnego, ibm-platform-services, requests-ntlm, qiskit-ibm-runtime\n",
            "  Attempting uninstall: pydantic-core\n",
            "    Found existing installation: pydantic_core 2.27.2\n",
            "    Uninstalling pydantic_core-2.27.2:\n",
            "      Successfully uninstalled pydantic_core-2.27.2\n",
            "  Attempting uninstall: pydantic\n",
            "    Found existing installation: pydantic 2.10.6\n",
            "    Uninstalling pydantic-2.10.6:\n",
            "      Successfully uninstalled pydantic-2.10.6\n",
            "Successfully installed dill-0.3.9 ibm-platform-services-0.59.1 ibm_cloud_sdk_core-3.22.1 pbr-6.1.1 pydantic-2.9.2 pydantic-core-2.23.4 pylatexenc-2.10 pyspnego-0.11.2 qiskit-1.3.2 qiskit-ibm-runtime-0.36.1 requests-ntlm-1.3.0 rustworkx-0.16.0 stevedore-5.4.0 symengine-0.13.0\n"
          ]
        },
        {
          "output_type": "execute_result",
          "data": {
            "text/plain": [
              "<Figure size 230.377x284.278 with 1 Axes>"
            ],
            "image/png": "[encoded data removed]"
          },
          "metadata": {},
          "execution_count": 2
        }
      ],
      "source": [
        "## For google Collab users, remove if you are running on your local machine\n",
        "!pip install qiskit qiskit-ibm-runtime qiskit[visualization]\n",
        "\n",
        "import qiskit\n",
        "\n",
        "from qiskit import QuantumCircuit, ClassicalRegister, QuantumRegister\n",
        "\n",
        "# Let's create a basic circuit\n",
        "q_control = QuantumRegister(1, \"Control\")\n",
        "q_target = QuantumRegister(1, \"Target\")\n",
        "bit = ClassicalRegister(1, \"Bit\")\n",
        "\n",
        "qc = QuantumCircuit(q_control, q_target, bit)\n",
        "\n",
        "qc.draw('mpl')"
      ]
    },
    {
      "cell_type": "code",
      "execution_count": null,
      "metadata": {
        "colab": {
          "base_uri": "https://localhost:8080/",
          "height": 255
        },
        "id": "Tp0lCZyPlI5n",
        "outputId": "66dbc430-cf4c-4c1e-d82c-5166d1a8deb9"
      },
      "outputs": [
        {
          "output_type": "execute_result",
          "data": {
            "text/plain": [
              "<Figure size 355.794x284.278 with 1 Axes>"
            ],
            "image/png": "[encoded data removed]"
          },
          "metadata": {},
          "execution_count": 3
        }
      ],
      "source": [
        "# We can now apply gates over the control and measure it\n",
        "qc.h(q_control)\n",
        "qc.measure(q_control, bit)\n",
        "\n",
        "qc.draw('mpl')"
      ]
    },
    {
      "cell_type": "code",
      "execution_count": null,
      "metadata": {
        "colab": {
          "base_uri": "https://localhost:8080/",
          "height": 311
        },
        "id": "Mh8Z3kyNlI5p",
        "outputId": "900dddec-32d8-4d39-f843-f04c9ae5f67c"
      },
      "outputs": [
        {
          "output_type": "stream",
          "name": "stderr",
          "text": [
            "<ipython-input-4-9e476ee74407>:3: DeprecationWarning: The method ``qiskit.circuit.instructionset.InstructionSet.c_if()`` is deprecated as of qiskit 1.3.0. It will be removed in 2.0.0.\n",
            "  qc.x(q_target).c_if(bit, 1)\n"
          ]
        },
        {
          "output_type": "execute_result",
          "data": {
            "text/plain": [
              "<Figure size 439.405x284.278 with 1 Axes>"
            ],
            "image/png": "[encoded data removed]"
          },
          "metadata": {},
          "execution_count": 4
        }
      ],
      "source": [
        "# Let's now do a conditional not on the target qubit using the c_if instruction\n",
        "# The c_if instruction applies the gate only if the given bit has the value we pass to it\n",
        "qc.x(q_target).c_if(bit, 1)\n",
        "\n",
        "qc.draw('mpl')"
      ]
    },
    {
      "cell_type": "markdown",
      "metadata": {
        "id": "imqORO0wlI5q"
      },
      "source": [
        "# 2. Composing circuits and Custom Gates\n",
        "\n",
        "Now, imagine that we have two different circuits and we want to join them together.\n",
        "\n",
        "For example one could be the part that initializes our qubits to a state, and the other the one that measures and applies gates.\n",
        "We could create two different circuits, and later on compose them."
      ]
    },
    {
      "cell_type": "code",
      "execution_count": 6,
      "metadata": {
        "id": "CyAtDfmNlI5r",
        "colab": {
          "base_uri": "https://localhost:8080/",
          "height": 191
        },
        "outputId": "de5f435e-7fc7-40ef-f1b7-f73f475e48ab"
      },
      "outputs": [
        {
          "output_type": "execute_result",
          "data": {
            "text/plain": [
              "<Figure size 203.683x200.667 with 1 Axes>"
            ],
            "image/png": "[encoded data removed]"
          },
          "metadata": {},
          "execution_count": 6
        }
      ],
      "source": [
        "# Let's re-do the previous circuit, but separating the initialization and measurement parts\n",
        "\n",
        "initialization_qc = QuantumCircuit(2)\n",
        "\n",
        "initialization_qc.h(0)\n",
        "\n",
        "initialization_qc.draw('mpl')"
      ]
    },
    {
      "cell_type": "code",
      "execution_count": 7,
      "metadata": {
        "id": "atf4hOvElI5s",
        "colab": {
          "base_uri": "https://localhost:8080/",
          "height": 311
        },
        "outputId": "287d6963-f537-4bc1-ad1a-d1a7013eb5e1"
      },
      "outputs": [
        {
          "output_type": "stream",
          "name": "stderr",
          "text": [
            "<ipython-input-7-79e2c3a59ecd>:4: DeprecationWarning: The method ``qiskit.circuit.instructionset.InstructionSet.c_if()`` is deprecated as of qiskit 1.3.0. It will be removed in 2.0.0.\n",
            "  measurement_qc.x(1).c_if(0, 1)\n"
          ]
        },
        {
          "output_type": "execute_result",
          "data": {
            "text/plain": [
              "<Figure size 287.294x284.278 with 1 Axes>"
            ],
            "image/png": "[encoded data removed]"
          },
          "metadata": {},
          "execution_count": 7
        }
      ],
      "source": [
        "measurement_qc = QuantumCircuit(2,1)\n",
        "\n",
        "measurement_qc.measure(0,0)\n",
        "measurement_qc.x(1).c_if(0, 1)\n",
        "\n",
        "measurement_qc.draw('mpl')"
      ]
    },
    {
      "cell_type": "markdown",
      "metadata": {
        "id": "dwzRLNMnlI5t"
      },
      "source": [
        "Lets now compose both parts into a single circuits.\n",
        "\n",
        "We can do multiple things, we do that with the `compose` function"
      ]
    },
    {
      "cell_type": "code",
      "execution_count": 8,
      "metadata": {
        "id": "fgsEo9mBlI5u",
        "colab": {
          "base_uri": "https://localhost:8080/",
          "height": 255
        },
        "outputId": "51cacb43-1b73-4c2e-f660-8145dee200e1"
      },
      "outputs": [
        {
          "output_type": "execute_result",
          "data": {
            "text/plain": [
              "<Figure size 370.906x284.278 with 1 Axes>"
            ],
            "image/png": "[encoded data removed]"
          },
          "metadata": {},
          "execution_count": 8
        }
      ],
      "source": [
        "qc = initialization_qc.compose(measurement_qc, [0,1]) # The second argument, represents the mapping of qubits\n",
        "\n",
        "qc.draw('mpl')"
      ]
    },
    {
      "cell_type": "markdown",
      "metadata": {
        "id": "IplMtsBulI5v"
      },
      "source": [
        "We could alternatively, create instructions from both parts, and apply them on a new quantum circuit"
      ]
    },
    {
      "cell_type": "code",
      "execution_count": 9,
      "metadata": {
        "id": "exLMkvsZlI5v",
        "colab": {
          "base_uri": "https://localhost:8080/",
          "height": 311
        },
        "outputId": "dbbcc8d5-5dfe-4bf7-b7f2-cd7e869f9b81"
      },
      "outputs": [
        {
          "output_type": "stream",
          "name": "stderr",
          "text": [
            "/usr/local/lib/python3.11/dist-packages/qiskit/circuit/quantumcircuit.py:3428: RuntimeWarning: Cregbundle set to False since an instruction needs to refer to individual classical wire\n",
            "  return circuit_drawer(\n"
          ]
        },
        {
          "output_type": "execute_result",
          "data": {
            "text/plain": [
              "<Figure size 621.739x284.278 with 1 Axes>"
            ],
            "image/png": "[encoded data removed]"
          },
          "metadata": {},
          "execution_count": 9
        }
      ],
      "source": [
        "initialization_instruction = initialization_qc.to_instruction(label=\"initialization\")\n",
        "measurement_instruction = measurement_qc.to_instruction(label=\"measurement\")\n",
        "\n",
        "qc = QuantumCircuit(2, 1)\n",
        "\n",
        "qc.append(initialization_instruction, [0,1])\n",
        "qc.append(measurement_instruction, [0,1], [0]) # Again this requires the mapping, and we are adding the classical mapping in case it is needed\n",
        "\n",
        "qc.draw('mpl')"
      ]
    },
    {
      "cell_type": "markdown",
      "metadata": {
        "id": "SjZEyGwolI5w"
      },
      "source": [
        "# 3. Superdense Coding\n",
        "\n",
        "If you remember the Superdense Coding protocol, it's composed of two qubits, and the following parts in the circuit:\n",
        "\n",
        "1. Bell State initialization\n",
        "2. Codification of the message\n",
        "3. Bell State Analysis\n",
        "\n",
        "Let's now create our own circuit to do this protocol"
      ]
    },
    {
      "cell_type": "code",
      "source": [
        "!pip install qiskit qiskit-ibm-runtime qiskit[visualization]\n",
        "\n",
        "import qiskit"
      ],
      "metadata": {
        "colab": {
          "base_uri": "https://localhost:8080/"
        },
        "id": "um1mk_P8ryFR",
        "outputId": "056e70e2-4d5e-417d-fe68-6a851816bdf0"
      },
      "execution_count": 2,
      "outputs": [
        {
          "output_type": "stream",
          "name": "stdout",
          "text": [
            "Collecting qiskit\n",
            "  Downloading qiskit-1.4.0-cp39-abi3-manylinux_2_17_x86_64.manylinux2014_x86_64.whl.metadata (12 kB)\n",
            "Collecting qiskit-ibm-runtime\n",
            "  Downloading qiskit_ibm_runtime-0.36.1-py3-none-any.whl.metadata (20 kB)\n",
            "Collecting rustworkx>=0.15.0 (from qiskit)\n",
            "  Downloading rustworkx-0.16.0-cp39-abi3-manylinux_2_17_x86_64.manylinux2014_x86_64.whl.metadata (10 kB)\n",
            "Requirement already satisfied: numpy<3,>=1.17 in /usr/local/lib/python3.11/dist-packages (from qiskit) (1.26.4)\n",
            "Requirement already satisfied: scipy>=1.5 in /usr/local/lib/python3.11/dist-packages (from qiskit) (1.13.1)\n",
            "Requirement already satisfied: sympy>=1.3 in /usr/local/lib/python3.11/dist-packages (from qiskit) (1.13.1)\n",
            "Collecting dill>=0.3 (from qiskit)\n",
            "  Downloading dill-0.3.9-py3-none-any.whl.metadata (10 kB)\n",
            "Requirement already satisfied: python-dateutil>=2.8.0 in /usr/local/lib/python3.11/dist-packages (from qiskit) (2.8.2)\n",
            "Collecting stevedore>=3.0.0 (from qiskit)\n",
            "  Downloading stevedore-5.4.1-py3-none-any.whl.metadata (2.3 kB)\n",
            "Requirement already satisfied: typing-extensions in /usr/local/lib/python3.11/dist-packages (from qiskit) (4.12.2)\n",
            "Collecting symengine<0.14,>=0.11 (from qiskit)\n",
            "  Downloading symengine-0.13.0-cp311-cp311-manylinux_2_17_x86_64.manylinux2014_x86_64.whl.metadata (1.2 kB)\n",
            "Requirement already satisfied: requests>=2.19 in /usr/local/lib/python3.11/dist-packages (from qiskit-ibm-runtime) (2.32.3)\n",
            "Collecting requests-ntlm>=1.1.0 (from qiskit-ibm-runtime)\n",
            "  Downloading requests_ntlm-1.3.0-py3-none-any.whl.metadata (2.4 kB)\n",
            "Requirement already satisfied: urllib3>=1.21.1 in /usr/local/lib/python3.11/dist-packages (from qiskit-ibm-runtime) (2.3.0)\n",
            "Requirement already satisfied: websocket-client>=1.5.1 in /usr/local/lib/python3.11/dist-packages (from qiskit-ibm-runtime) (1.8.0)\n",
            "Collecting ibm-platform-services>=0.22.6 (from qiskit-ibm-runtime)\n",
            "  Downloading ibm_platform_services-0.59.1-py3-none-any.whl.metadata (9.0 kB)\n",
            "Collecting pydantic<2.10,>=2.5.0 (from qiskit-ibm-runtime)\n",
            "  Downloading pydantic-2.9.2-py3-none-any.whl.metadata (149 kB)\n",
            "\u001b[2K     \u001b[90m━━━━━━━━━━━━━━━━━━━━━━━━━━━━━━━━━━━━━━━━\u001b[0m \u001b[32m149.4/149.4 kB\u001b[0m \u001b[31m3.2 MB/s\u001b[0m eta \u001b[36m0:00:00\u001b[0m\n",
            "\u001b[?25hRequirement already satisfied: matplotlib>=3.3 in /usr/local/lib/python3.11/dist-packages (from qiskit[visualization]) (3.10.0)\n",
            "Requirement already satisfied: pydot in /usr/local/lib/python3.11/dist-packages (from qiskit[visualization]) (3.0.4)\n",
            "Requirement already satisfied: Pillow>=4.2.1 in /usr/local/lib/python3.11/dist-packages (from qiskit[visualization]) (11.1.0)\n",
            "Collecting pylatexenc>=1.4 (from qiskit[visualization])\n",
            "  Downloading pylatexenc-2.10.tar.gz (162 kB)\n",
            "\u001b[2K     \u001b[90m━━━━━━━━━━━━━━━━━━━━━━━━━━━━━━━━━━━━━━━━\u001b[0m \u001b[32m162.6/162.6 kB\u001b[0m \u001b[31m7.2 MB/s\u001b[0m eta \u001b[36m0:00:00\u001b[0m\n",
            "\u001b[?25h  Preparing metadata (setup.py) ... \u001b[?25l\u001b[?25hdone\n",
            "Requirement already satisfied: seaborn>=0.9.0 in /usr/local/lib/python3.11/dist-packages (from qiskit[visualization]) (0.13.2)\n",
            "Collecting ibm_cloud_sdk_core<4.0.0,>=3.22.0 (from ibm-platform-services>=0.22.6->qiskit-ibm-runtime)\n",
            "  Downloading ibm_cloud_sdk_core-3.22.1-py3-none-any.whl.metadata (8.6 kB)\n",
            "Requirement already satisfied: contourpy>=1.0.1 in /usr/local/lib/python3.11/dist-packages (from matplotlib>=3.3->qiskit[visualization]) (1.3.1)\n",
            "Requirement already satisfied: cycler>=0.10 in /usr/local/lib/python3.11/dist-packages (from matplotlib>=3.3->qiskit[visualization]) (0.12.1)\n",
            "Requirement already satisfied: fonttools>=4.22.0 in /usr/local/lib/python3.11/dist-packages (from matplotlib>=3.3->qiskit[visualization]) (4.56.0)\n",
            "Requirement already satisfied: kiwisolver>=1.3.1 in /usr/local/lib/python3.11/dist-packages (from matplotlib>=3.3->qiskit[visualization]) (1.4.8)\n",
            "Requirement already satisfied: packaging>=20.0 in /usr/local/lib/python3.11/dist-packages (from matplotlib>=3.3->qiskit[visualization]) (24.2)\n",
            "Requirement already satisfied: pyparsing>=2.3.1 in /usr/local/lib/python3.11/dist-packages (from matplotlib>=3.3->qiskit[visualization]) (3.2.1)\n",
            "Requirement already satisfied: annotated-types>=0.6.0 in /usr/local/lib/python3.11/dist-packages (from pydantic<2.10,>=2.5.0->qiskit-ibm-runtime) (0.7.0)\n",
            "Collecting pydantic-core==2.23.4 (from pydantic<2.10,>=2.5.0->qiskit-ibm-runtime)\n",
            "  Downloading pydantic_core-2.23.4-cp311-cp311-manylinux_2_17_x86_64.manylinux2014_x86_64.whl.metadata (6.6 kB)\n",
            "Requirement already satisfied: six>=1.5 in /usr/local/lib/python3.11/dist-packages (from python-dateutil>=2.8.0->qiskit) (1.17.0)\n",
            "Requirement already satisfied: charset-normalizer<4,>=2 in /usr/local/lib/python3.11/dist-packages (from requests>=2.19->qiskit-ibm-runtime) (3.4.1)\n",
            "Requirement already satisfied: idna<4,>=2.5 in /usr/local/lib/python3.11/dist-packages (from requests>=2.19->qiskit-ibm-runtime) (3.10)\n",
            "Requirement already satisfied: certifi>=2017.4.17 in /usr/local/lib/python3.11/dist-packages (from requests>=2.19->qiskit-ibm-runtime) (2025.1.31)\n",
            "Requirement already satisfied: cryptography>=1.3 in /usr/local/lib/python3.11/dist-packages (from requests-ntlm>=1.1.0->qiskit-ibm-runtime) (43.0.3)\n",
            "Collecting pyspnego>=0.4.0 (from requests-ntlm>=1.1.0->qiskit-ibm-runtime)\n",
            "  Downloading pyspnego-0.11.2-py3-none-any.whl.metadata (5.4 kB)\n",
            "Requirement already satisfied: pandas>=1.2 in /usr/local/lib/python3.11/dist-packages (from seaborn>=0.9.0->qiskit[visualization]) (2.2.2)\n",
            "Collecting pbr>=2.0.0 (from stevedore>=3.0.0->qiskit)\n",
            "  Downloading pbr-6.1.1-py2.py3-none-any.whl.metadata (3.4 kB)\n",
            "Requirement already satisfied: mpmath<1.4,>=1.1.0 in /usr/local/lib/python3.11/dist-packages (from sympy>=1.3->qiskit) (1.3.0)\n",
            "Requirement already satisfied: cffi>=1.12 in /usr/local/lib/python3.11/dist-packages (from cryptography>=1.3->requests-ntlm>=1.1.0->qiskit-ibm-runtime) (1.17.1)\n",
            "Requirement already satisfied: PyJWT<3.0.0,>=2.8.0 in /usr/local/lib/python3.11/dist-packages (from ibm_cloud_sdk_core<4.0.0,>=3.22.0->ibm-platform-services>=0.22.6->qiskit-ibm-runtime) (2.10.1)\n",
            "Requirement already satisfied: pytz>=2020.1 in /usr/local/lib/python3.11/dist-packages (from pandas>=1.2->seaborn>=0.9.0->qiskit[visualization]) (2025.1)\n",
            "Requirement already satisfied: tzdata>=2022.7 in /usr/local/lib/python3.11/dist-packages (from pandas>=1.2->seaborn>=0.9.0->qiskit[visualization]) (2025.1)\n",
            "Requirement already satisfied: setuptools in /usr/local/lib/python3.11/dist-packages (from pbr>=2.0.0->stevedore>=3.0.0->qiskit) (75.1.0)\n",
            "Requirement already satisfied: pycparser in /usr/local/lib/python3.11/dist-packages (from cffi>=1.12->cryptography>=1.3->requests-ntlm>=1.1.0->qiskit-ibm-runtime) (2.22)\n",
            "Downloading qiskit-1.4.0-cp39-abi3-manylinux_2_17_x86_64.manylinux2014_x86_64.whl (6.7 MB)\n",
            "\u001b[2K   \u001b[90m━━━━━━━━━━━━━━━━━━━━━━━━━━━━━━━━━━━━━━━━\u001b[0m \u001b[32m6.7/6.7 MB\u001b[0m \u001b[31m65.3 MB/s\u001b[0m eta \u001b[36m0:00:00\u001b[0m\n",
            "\u001b[?25hDownloading qiskit_ibm_runtime-0.36.1-py3-none-any.whl (3.1 MB)\n",
            "\u001b[2K   \u001b[90m━━━━━━━━━━━━━━━━━━━━━━━━━━━━━━━━━━━━━━━━\u001b[0m \u001b[32m3.1/3.1 MB\u001b[0m \u001b[31m52.7 MB/s\u001b[0m eta \u001b[36m0:00:00\u001b[0m\n",
            "\u001b[?25hDownloading dill-0.3.9-py3-none-any.whl (119 kB)\n",
            "\u001b[2K   \u001b[90m━━━━━━━━━━━━━━━━━━━━━━━━━━━━━━━━━━━━━━━━\u001b[0m \u001b[32m119.4/119.4 kB\u001b[0m \u001b[31m10.5 MB/s\u001b[0m eta \u001b[36m0:00:00\u001b[0m\n",
            "\u001b[?25hDownloading ibm_platform_services-0.59.1-py3-none-any.whl (340 kB)\n",
            "\u001b[2K   \u001b[90m━━━━━━━━━━━━━━━━━━━━━━━━━━━━━━━━━━━━━━━━\u001b[0m \u001b[32m340.8/340.8 kB\u001b[0m \u001b[31m24.6 MB/s\u001b[0m eta \u001b[36m0:00:00\u001b[0m\n",
            "\u001b[?25hDownloading pydantic-2.9.2-py3-none-any.whl (434 kB)\n",
            "\u001b[2K   \u001b[90m━━━━━━━━━━━━━━━━━━━━━━━━━━━━━━━━━━━━━━━━\u001b[0m \u001b[32m434.9/434.9 kB\u001b[0m \u001b[31m30.2 MB/s\u001b[0m eta \u001b[36m0:00:00\u001b[0m\n",
            "\u001b[?25hDownloading pydantic_core-2.23.4-cp311-cp311-manylinux_2_17_x86_64.manylinux2014_x86_64.whl (2.1 MB)\n",
            "\u001b[2K   \u001b[90m━━━━━━━━━━━━━━━━━━━━━━━━━━━━━━━━━━━━━━━━\u001b[0m \u001b[32m2.1/2.1 MB\u001b[0m \u001b[31m57.3 MB/s\u001b[0m eta \u001b[36m0:00:00\u001b[0m\n",
            "\u001b[?25hDownloading requests_ntlm-1.3.0-py3-none-any.whl (6.6 kB)\n",
            "Downloading rustworkx-0.16.0-cp39-abi3-manylinux_2_17_x86_64.manylinux2014_x86_64.whl (2.1 MB)\n",
            "\u001b[2K   \u001b[90m━━━━━━━━━━━━━━━━━━━━━━━━━━━━━━━━━━━━━━━━\u001b[0m \u001b[32m2.1/2.1 MB\u001b[0m \u001b[31m65.7 MB/s\u001b[0m eta \u001b[36m0:00:00\u001b[0m\n",
            "\u001b[?25hDownloading stevedore-5.4.1-py3-none-any.whl (49 kB)\n",
            "\u001b[2K   \u001b[90m━━━━━━━━━━━━━━━━━━━━━━━━━━━━━━━━━━━━━━━━\u001b[0m \u001b[32m49.5/49.5 kB\u001b[0m \u001b[31m4.5 MB/s\u001b[0m eta \u001b[36m0:00:00\u001b[0m\n",
            "\u001b[?25hDownloading symengine-0.13.0-cp311-cp311-manylinux_2_17_x86_64.manylinux2014_x86_64.whl (49.7 MB)\n",
            "\u001b[2K   \u001b[90m━━━━━━━━━━━━━━━━━━━━━━━━━━━━━━━━━━━━━━━━\u001b[0m \u001b[32m49.7/49.7 MB\u001b[0m \u001b[31m12.2 MB/s\u001b[0m eta \u001b[36m0:00:00\u001b[0m\n",
            "\u001b[?25hDownloading ibm_cloud_sdk_core-3.22.1-py3-none-any.whl (69 kB)\n",
            "\u001b[2K   \u001b[90m━━━━━━━━━━━━━━━━━━━━━━━━━━━━━━━━━━━━━━━━\u001b[0m \u001b[32m69.4/69.4 kB\u001b[0m \u001b[31m6.1 MB/s\u001b[0m eta \u001b[36m0:00:00\u001b[0m\n",
            "\u001b[?25hDownloading pbr-6.1.1-py2.py3-none-any.whl (108 kB)\n",
            "\u001b[2K   \u001b[90m━━━━━━━━━━━━━━━━━━━━━━━━━━━━━━━━━━━━━━━━\u001b[0m \u001b[32m109.0/109.0 kB\u001b[0m \u001b[31m8.7 MB/s\u001b[0m eta \u001b[36m0:00:00\u001b[0m\n",
            "\u001b[?25hDownloading pyspnego-0.11.2-py3-none-any.whl (130 kB)\n",
            "\u001b[2K   \u001b[90m━━━━━━━━━━━━━━━━━━━━━━━━━━━━━━━━━━━━━━━━\u001b[0m \u001b[32m130.5/130.5 kB\u001b[0m \u001b[31m11.0 MB/s\u001b[0m eta \u001b[36m0:00:00\u001b[0m\n",
            "\u001b[?25hBuilding wheels for collected packages: pylatexenc\n",
            "  Building wheel for pylatexenc (setup.py) ... \u001b[?25l\u001b[?25hdone\n",
            "  Created wheel for pylatexenc: filename=pylatexenc-2.10-py3-none-any.whl size=136816 sha256=a395fb98dcd37c56096c358505c9b92a1d5530e26af43521e98a933fd13cc2ac\n",
            "  Stored in directory: /root/.cache/pip/wheels/b1/7a/33/9fdd892f784ed4afda62b685ae3703adf4c91aa0f524c28f03\n",
            "Successfully built pylatexenc\n",
            "Installing collected packages: pylatexenc, symengine, rustworkx, pydantic-core, pbr, dill, stevedore, pydantic, ibm_cloud_sdk_core, qiskit, pyspnego, ibm-platform-services, requests-ntlm, qiskit-ibm-runtime\n",
            "  Attempting uninstall: pydantic-core\n",
            "    Found existing installation: pydantic_core 2.27.2\n",
            "    Uninstalling pydantic_core-2.27.2:\n",
            "      Successfully uninstalled pydantic_core-2.27.2\n",
            "  Attempting uninstall: pydantic\n",
            "    Found existing installation: pydantic 2.10.6\n",
            "    Uninstalling pydantic-2.10.6:\n",
            "      Successfully uninstalled pydantic-2.10.6\n",
            "Successfully installed dill-0.3.9 ibm-platform-services-0.59.1 ibm_cloud_sdk_core-3.22.1 pbr-6.1.1 pydantic-2.9.2 pydantic-core-2.23.4 pylatexenc-2.10 pyspnego-0.11.2 qiskit-1.4.0 qiskit-ibm-runtime-0.36.1 requests-ntlm-1.3.0 rustworkx-0.16.0 stevedore-5.4.1 symengine-0.13.0\n"
          ]
        }
      ]
    },
    {
      "cell_type": "code",
      "execution_count": 13,
      "metadata": {
        "id": "B4Fuci1ylI5x",
        "colab": {
          "base_uri": "https://localhost:8080/",
          "height": 255
        },
        "outputId": "a89d2cd2-6831-4ac8-96a9-378995648bec"
      },
      "outputs": [
        {
          "output_type": "execute_result",
          "data": {
            "text/plain": [
              "<Figure size 852.864x284.278 with 1 Axes>"
            ],
            "image/png": "[encoded data removed]"
          },
          "metadata": {},
          "execution_count": 13
        }
      ],
      "source": [
        "# Compose the Superdense coding circuit for the message [0,0]\n",
        "#### YOUR CODE HERE\n",
        "from qiskit import QuantumCircuit\n",
        "from qiskit import QuantumRegister, ClassicalRegister\n",
        "#CREACIÓN DEL CIRCUITO\n",
        "\n",
        "#Número de qubits\n",
        "qubit = QuantumRegister(2, 'q') #qubits cuanticos\n",
        "\n",
        "#Número de bits (Cada qubit lleva un bit asociado)\n",
        "bit = ClassicalRegister(2, 'our_bit') #bits clasicos\n",
        "\n",
        "#Creamos el circuito con nuestros qubits y bits\n",
        "qc = QuantumCircuit(qubit, bit) # con (1,1) tambien funciona primero qubits segundo bits clasicos\n",
        "#-------------------------------------------------------------------------------------------------\n",
        "\n",
        "#1.APLICACIÓN DE PUERTAS PARA CREAR EL ESTADO DE BELL\n",
        "\n",
        "qc.h(qubit[0]) #qubit[0]seria si tuvieramos dos y lo aplicariamos al segundo\n",
        "qc.cx(0,1) # q0 es el cubit de control y q1 el que actua\n",
        "\n",
        "#--------------------------------------------------------------------------------------------------\n",
        "\n",
        "#2.CODIFICACIÓN DEL MENSAJE\n",
        "\n",
        "#En este caso no aplicamos ninguna puerta\n",
        "\n",
        "#--------------------------------------------------------------------------------------------------\n",
        "\n",
        "#3.ANÁLISIS DEL ESTADO DE BELL (DECODIFICACIÓN)\n",
        "\n",
        "qc.barrier()\n",
        "qc.cx(0,1)\n",
        "qc.h(qubit[0])\n",
        "qc.barrier()\n",
        "#--------------------------------------------------------------------------------------------------\n",
        "#MEDICIONES\n",
        "qc.measure(0,0)\n",
        "qc.measure(1,1)\n",
        "#tambien puede hacerse como -> qc.measure([0,0],[1,1]) el primer corchete son los cubits y el segundo\n",
        "#los bits asociados a cada uno.\n",
        "\n",
        "#----------------------------------------------------------------------------------------------------\n",
        "#DIBUJUAMOS EL CIRCUITO\n",
        "qc.draw(output='mpl')\n",
        "\n",
        "\n",
        "####"
      ]
    },
    {
      "cell_type": "code",
      "execution_count": 12,
      "metadata": {
        "id": "H5ay7vy9lI5x",
        "colab": {
          "base_uri": "https://localhost:8080/",
          "height": 255
        },
        "outputId": "f90687d6-f7d7-4a1b-ac38-5fa3b6745f71"
      },
      "outputs": [
        {
          "output_type": "execute_result",
          "data": {
            "text/plain": [
              "<Figure size 1103.7x284.278 with 1 Axes>"
            ],
            "image/png": "[encoded data removed]"
          },
          "metadata": {},
          "execution_count": 12
        }
      ],
      "source": [
        "# Compose the Superdense coding circuit for the message [1,1]\n",
        "#### YOUR CODE HERE\n",
        "from qiskit import QuantumCircuit\n",
        "from qiskit import QuantumRegister, ClassicalRegister\n",
        "#CREACIÓN DEL CIRCUITO\n",
        "\n",
        "#Número de qubits\n",
        "qubit = QuantumRegister(2, 'q') #qubits cuanticos\n",
        "\n",
        "#Número de bits (Cada qubit lleva un bit asociado)\n",
        "bit = ClassicalRegister(2, 'our_bit') #bits clasicos\n",
        "\n",
        "#Creamos el circuito con nuestros qubits y bits\n",
        "qc_2 = QuantumCircuit(qubit, bit) # con (1,1) tambien funciona primero qubits segundo bits clasicos\n",
        "#-------------------------------------------------------------------------------------------------\n",
        "\n",
        "#1.APLICACIÓN DE PUERTAS PARA CREAR EL ESTADO DE BELL\n",
        "\n",
        "qc_2.h(0) #qubit[0]seria si tuvieramos dos y lo aplicariamos al segundo\n",
        "qc_2.cx(0,1) # q0 es el cubit de control y q1 el que actua\n",
        "\n",
        "#--------------------------------------------------------------------------------------------------\n",
        "\n",
        "#2.CODIFICACIÓN DEL MENSAJE\n",
        "\n",
        "qc_2.barrier()\n",
        "qc_2.x(0)\n",
        "qc_2.z(0)\n",
        "qc_2.barrier()\n",
        "\n",
        "#--------------------------------------------------------------------------------------------------\n",
        "\n",
        "#3.ANÁLISIS DEL ESTADO DE BELL (DECODIFICACIÓN)\n",
        "\n",
        "qc_2.cx(0,1)\n",
        "qc_2.h(0)\n",
        "qc_2.barrier()\n",
        "#--------------------------------------------------------------------------------------------------\n",
        "#4.MEDICIONES\n",
        "qc_2.measure(0,0)\n",
        "qc_2.measure(1,1)\n",
        "#tambien puede hacerse como -> qc.measure([0,0],[1,1]) el primer corchete son los cubits y el segundo\n",
        "#los bits asociados a cada uno.\n",
        "\n",
        "#----------------------------------------------------------------------------------------------------\n",
        "#DIBUJUAMOS EL CIRCUITO\n",
        "qc_2.draw(output='mpl')\n",
        "\n",
        "\n",
        "####"
      ]
    },
    {
      "cell_type": "code",
      "source": [
        "# Compose the Superdense coding circuit for the message [0,1]\n",
        "#### YOUR CODE HERE\n",
        "from qiskit import QuantumCircuit\n",
        "from qiskit import QuantumRegister, ClassicalRegister\n",
        "#CREACIÓN DEL CIRCUITO\n",
        "\n",
        "#Número de qubits\n",
        "qubit = QuantumRegister(2, 'q') #qubits cuanticos\n",
        "\n",
        "#Número de bits (Cada qubit lleva un bit asociado)\n",
        "bit = ClassicalRegister(2, 'our_bit') #bits clasicos\n",
        "\n",
        "#Creamos el circuito con nuestros qubits y bits\n",
        "qc_3 = QuantumCircuit(qubit, bit) # con (1,1) tambien funciona primero qubits segundo bits clasicos\n",
        "#-------------------------------------------------------------------------------------------------\n",
        "\n",
        "#1.APLICACIÓN DE PUERTAS PARA CREAR EL ESTADO DE BELL\n",
        "\n",
        "qc_3.h(0) #qubit[0]seria si tuvieramos dos y lo aplicariamos al segundo\n",
        "qc_3.cx(0,1) # q0 es el cubit de control y q1 el que actua\n",
        "\n",
        "#--------------------------------------------------------------------------------------------------\n",
        "\n",
        "#2.CODIFICACIÓN DEL MENSAJE\n",
        "\n",
        "qc_3.barrier()\n",
        "qc_3.x(0)\n",
        "qc_3.barrier()\n",
        "\n",
        "#--------------------------------------------------------------------------------------------------\n",
        "\n",
        "#3.ANÁLISIS DEL ESTADO DE BELL (DECODIFICACIÓN)\n",
        "\n",
        "qc_3.cx(0,1)\n",
        "qc_3.h(0)\n",
        "qc_3.barrier()\n",
        "#--------------------------------------------------------------------------------------------------\n",
        "#4.MEDICIONES\n",
        "qc_3.measure(0,0)\n",
        "qc_3.measure(1,1)\n",
        "#tambien puede hacerse como -> qc.measure([0,0],[1,1]) el primer corchete son los cubits y el segundo\n",
        "#los bits asociados a cada uno.\n",
        "\n",
        "#----------------------------------------------------------------------------------------------------\n",
        "#DIBUJUAMOS EL CIRCUITO\n",
        "qc_3.draw(output='mpl')\n",
        "\n",
        "\n",
        "####"
      ],
      "metadata": {
        "colab": {
          "base_uri": "https://localhost:8080/",
          "height": 255
        },
        "id": "U8x7ut-UTGT2",
        "outputId": "eb406737-0879-4c4f-fc62-141e6b295622"
      },
      "execution_count": 34,
      "outputs": [
        {
          "output_type": "execute_result",
          "data": {
            "text/plain": [
              "<Figure size 1020.09x284.278 with 1 Axes>"
            ],
            "image/png": "[encoded data removed]"
          },
          "metadata": {},
          "execution_count": 34
        }
      ]
    },
    {
      "cell_type": "code",
      "source": [
        "# Compose the Superdense coding circuit for the message [1,0]\n",
        "#### YOUR CODE HERE\n",
        "from qiskit import QuantumCircuit\n",
        "from qiskit import QuantumRegister, ClassicalRegister\n",
        "#CREACIÓN DEL CIRCUITO\n",
        "\n",
        "#Número de qubits\n",
        "qubit = QuantumRegister(2, 'q') #qubits cuanticos\n",
        "\n",
        "#Número de bits (Cada qubit lleva un bit asociado)\n",
        "bit = ClassicalRegister(2, 'our_bit') #bits clasicos\n",
        "\n",
        "#Creamos el circuito con nuestros qubits y bits\n",
        "qc_4 = QuantumCircuit(qubit, bit) # con (1,1) tambien funciona primero qubits segundo bits clasicos\n",
        "#-------------------------------------------------------------------------------------------------\n",
        "\n",
        "#1.APLICACIÓN DE PUERTAS PARA CREAR EL ESTADO DE BELL\n",
        "\n",
        "qc_4.h(0) #qubit[0]seria si tuvieramos dos y lo aplicariamos al segundo\n",
        "qc_4.cx(0,1) # q0 es el cubit de control y q1 el que actua\n",
        "\n",
        "#--------------------------------------------------------------------------------------------------\n",
        "\n",
        "#2.CODIFICACIÓN DEL MENSAJE\n",
        "\n",
        "qc_4.barrier()\n",
        "qc_4.z(0)\n",
        "qc_4.barrier()\n",
        "\n",
        "#--------------------------------------------------------------------------------------------------\n",
        "\n",
        "#3.ANÁLISIS DEL ESTADO DE BELL (DECODIFICACIÓN)\n",
        "\n",
        "qc_4.cx(0,1)\n",
        "qc_4.h(0)\n",
        "qc_4.barrier()\n",
        "#--------------------------------------------------------------------------------------------------\n",
        "#4.MEDICIONES\n",
        "qc_4.measure(0,0)\n",
        "qc_4.measure(1,1)\n",
        "#tambien puede hacerse como -> qc.measure([0,0],[1,1]) el primer corchete son los cubits y el segundo\n",
        "#los bits asociados a cada uno.\n",
        "\n",
        "#----------------------------------------------------------------------------------------------------\n",
        "#DIBUJUAMOS EL CIRCUITO\n",
        "qc_4.draw(output='mpl')\n",
        "\n",
        "\n",
        "####"
      ],
      "metadata": {
        "colab": {
          "base_uri": "https://localhost:8080/",
          "height": 255
        },
        "id": "qv8X0XSXUXf9",
        "outputId": "fe7f6a90-5bc6-4637-f29f-683422ac3d77"
      },
      "execution_count": 35,
      "outputs": [
        {
          "output_type": "execute_result",
          "data": {
            "text/plain": [
              "<Figure size 1020.09x284.278 with 1 Axes>"
            ],
            "image/png": "[encoded data removed]"
          },
          "metadata": {},
          "execution_count": 35
        }
      ]
    },
    {
      "cell_type": "code",
      "execution_count": 21,
      "metadata": {
        "id": "0E7s3o_ylI5y",
        "colab": {
          "base_uri": "https://localhost:8080/"
        },
        "outputId": "4d6f45e8-78ef-478e-d723-95c68c029706"
      },
      "outputs": [
        {
          "output_type": "stream",
          "name": "stdout",
          "text": [
            "SamplerPubResult(data=DataBin(our_bit=BitArray(<shape=(), num_shots=100, num_bits=2>)), metadata={'shots': 100, 'circuit_metadata': {}})\n"
          ]
        },
        {
          "output_type": "stream",
          "name": "stderr",
          "text": [
            "/usr/local/lib/python3.11/dist-packages/qiskit_ibm_runtime/fake_provider/fake_backend.py:468: RuntimeWarning: Aer not found, using qiskit.BasicSimulator and no noise.\n",
            "  warnings.warn(\n"
          ]
        },
        {
          "output_type": "execute_result",
          "data": {
            "text/plain": [
              "{'00': 100}"
            ]
          },
          "metadata": {},
          "execution_count": 21
        }
      ],
      "source": [
        "# Simulate your circuit to see if the circuit works\n",
        "# Use the code from the previous lab\n",
        "\n",
        "#### YOUR CODE TO LAUNCH THE CIRCUIT HERE\n",
        "# The part we dont care about now\n",
        "from qiskit_ibm_runtime import SamplerV2 as Sampler\n",
        "from qiskit_ibm_runtime.fake_provider import FakeManilaV2  #procesador cuantico\n",
        "from qiskit.transpiler.preset_passmanagers import generate_preset_pass_manager\n",
        "\n",
        "fake_manila = FakeManilaV2()\n",
        "pm = generate_preset_pass_manager(backend=fake_manila, optimization_level=1)\n",
        "\n",
        "#SIMULACIÓN PARA EL CIRCUITO QC\n",
        "\n",
        "# The part we care about now\n",
        "isa_qc = pm.run(qc)\n",
        "\n",
        "sampler = Sampler(mode=fake_manila)\n",
        "\n",
        "job = sampler.run([isa_qc], shots=100) #shots: cantidad de veces q lanzamos el circuito\n",
        "\n",
        "job\n",
        "\n",
        "# Lets see if the job has finished\n",
        "job.status()\n",
        "\n",
        "# Lets get the results\n",
        "pub_result = job.result()[0]\n",
        "print(pub_result)\n",
        "\n",
        "pub_result.data.our_bit.get_counts() # el uno es que ha salido una vez\n",
        "\n",
        "####"
      ]
    },
    {
      "cell_type": "code",
      "source": [
        "#SIMULACIÓN PARA EL CIRCUITO QC_2\n",
        "# The part we care about now\n",
        "isa_qc = pm.run(qc_2)\n",
        "\n",
        "sampler = Sampler(mode=fake_manila)\n",
        "\n",
        "job = sampler.run([isa_qc], shots=100) #shots: cantidad de veces q lanzamos el circuito\n",
        "\n",
        "job\n",
        "\n",
        "# Lets see if the job has finished\n",
        "job.status()\n",
        "\n",
        "# Lets get the results\n",
        "pub_result = job.result()[0]\n",
        "print(pub_result)\n",
        "\n",
        "pub_result.data.our_bit.get_counts() # el uno es que ha salido una vez"
      ],
      "metadata": {
        "colab": {
          "base_uri": "https://localhost:8080/"
        },
        "id": "PgDSeZ0F1hkE",
        "outputId": "1a34df5d-d2ef-4b02-f94d-4ffe90d5141d"
      },
      "execution_count": 20,
      "outputs": [
        {
          "output_type": "stream",
          "name": "stdout",
          "text": [
            "SamplerPubResult(data=DataBin(our_bit=BitArray(<shape=(), num_shots=100, num_bits=2>)), metadata={'shots': 100, 'circuit_metadata': {}})\n"
          ]
        },
        {
          "output_type": "stream",
          "name": "stderr",
          "text": [
            "/usr/local/lib/python3.11/dist-packages/qiskit_ibm_runtime/fake_provider/fake_backend.py:468: RuntimeWarning: Aer not found, using qiskit.BasicSimulator and no noise.\n",
            "  warnings.warn(\n"
          ]
        },
        {
          "output_type": "execute_result",
          "data": {
            "text/plain": [
              "{'11': 100}"
            ]
          },
          "metadata": {},
          "execution_count": 20
        }
      ]
    },
    {
      "cell_type": "markdown",
      "metadata": {
        "id": "bn_GuXawlI5y"
      },
      "source": [
        "# 4. Teleportation protocol\n",
        "\n",
        "If you remember, all of the protocols in this class have the same components, and you just built them!\n",
        "\n",
        "Given the components you created, let's create the Teleportation protocol.\n",
        "The teleportation protocol involved needed 1 Transmitted Qubit a Bell Pair and 2 Bits, and had the following steps:\n",
        "1. Create a Bell Pair\n",
        "2. Use the Bell State analyzer with the Qubit to be transmitted and one of the Qubit of the Bell Pairs\n",
        "3. Given the results of the analyzer, apply the corresponding X and Z gates."
      ]
    },
    {
      "cell_type": "code",
      "execution_count": 32,
      "metadata": {
        "id": "eLWALrlHlI5z",
        "colab": {
          "base_uri": "https://localhost:8080/",
          "height": 412
        },
        "outputId": "f198b694-eb27-4018-cd63-7d2afca054a3"
      },
      "outputs": [
        {
          "output_type": "stream",
          "name": "stderr",
          "text": [
            "<ipython-input-32-b875fef6c5ea>:35: DeprecationWarning: The method ``qiskit.circuit.instructionset.InstructionSet.c_if()`` is deprecated as of qiskit 1.3.0. It will be removed in 2.0.0.\n",
            "  qc.x(2).c_if(qc.clbits[1], 1)  # Si bit clásico 1 es 1, aplica X en q2\n",
            "<ipython-input-32-b875fef6c5ea>:40: DeprecationWarning: The method ``qiskit.circuit.instructionset.InstructionSet.c_if()`` is deprecated as of qiskit 1.3.0. It will be removed in 2.0.0.\n",
            "  qc.z(2).c_if(qc.clbits[0], 1)  # Si bit clásico 0 es 1, aplica Z en q2\n"
          ]
        },
        {
          "output_type": "execute_result",
          "data": {
            "text/plain": [
              "<Figure size 1020.09x367.889 with 1 Axes>"
            ],
            "image/png": "[encoded data removed]"
          },
          "metadata": {},
          "execution_count": 32
        }
      ],
      "source": [
        "# Compose the Teleportation protocol circuit here:\n",
        "#### YOUR CODE HERE\n",
        "from qiskit import QuantumCircuit\n",
        "from qiskit import QuantumRegister, ClassicalRegister\n",
        "\n",
        "#CREACIÓN DEL CIRCUITO\n",
        "\n",
        "#Número de qubits\n",
        "qubit = QuantumRegister(3, 'q') #qubits cuanticos\n",
        "\n",
        "#Número de bits (Cada qubit lleva un bit asociado)\n",
        "bit = ClassicalRegister(2, 'our_bit') #bits clasicos\n",
        "\n",
        "#Creamos el circuito con nuestros qubits y bits\n",
        "qc = QuantumCircuit(qubit, bit) # con (1,1) tambien funciona primero qubits segundo bits clasicos\n",
        "#-------------------------------------------------------------------------------------------------\n",
        "\n",
        "#1.APLICACIÓN DE PUERTAS PARA CREAR EL ESTADO DE BELL\n",
        "\n",
        "qc.h(1)\n",
        "qc.cx(1,2) # q1 es el cubit de control y q2 el que actua\n",
        "\n",
        "#--------------------------------------------------------------------------------------------------\n",
        "\n",
        "#2.BELL STATE ANALYZER\n",
        "\n",
        "qc.barrier()\n",
        "qc.cx(0,1)\n",
        "qc.h(0)\n",
        "qc.barrier()\n",
        "\n",
        "#--------------------------------------------------------------------------------------------------\n",
        "#3.MEDICIONES\n",
        "\n",
        "qc.measure(1,1)\n",
        "qc.x(2).c_if(qc.clbits[1], 1)  # Si bit clásico 1 es 1, aplica X en q2\n",
        "qc.measure(0,0)\n",
        "#tambien puede hacerse como -> qc.measure([0,0],[1,1]) el primer corchete son los cubits y el segundo\n",
        "#los bits asociados a cada uno.\n",
        "\n",
        "qc.z(2).c_if(qc.clbits[0], 1)  # Si bit clásico 0 es 1, aplica Z en q2\n",
        "#---------------------------------------------------------------------------------------------------\n",
        "#DIBUJUAMOS EL CIRCUITO\n",
        "qc.draw(output='mpl')\n",
        "####"
      ]
    },
    {
      "cell_type": "markdown",
      "metadata": {
        "id": "ZYf71QS9lI5z"
      },
      "source": [
        "We can now test it, by initializing our qubit to be transmitted to any Quantum State"
      ]
    },
    {
      "cell_type": "code",
      "execution_count": 5,
      "metadata": {
        "id": "3GgbIUCMlI50",
        "colab": {
          "base_uri": "https://localhost:8080/",
          "height": 369
        },
        "outputId": "25dd9234-03f7-4285-d153-604cd1820964"
      },
      "outputs": [
        {
          "output_type": "error",
          "ename": "QiskitError",
          "evalue": "'Sum of amplitudes-squared is not 1, but 0.6614378277661477.'",
          "traceback": [
            "\u001b[0;31m---------------------------------------------------------------------------\u001b[0m",
            "\u001b[0;31mQiskitError\u001b[0m                               Traceback (most recent call last)",
            "\u001b[0;32m<ipython-input-5-798d3f3c5ca8>\u001b[0m in \u001b[0;36m<cell line: 0>\u001b[0;34m()\u001b[0m\n\u001b[1;32m     20\u001b[0m \u001b[0;34m\u001b[0m\u001b[0m\n\u001b[1;32m     21\u001b[0m \u001b[0;31m# Inicializar el qubit q0 en el estado deseado\u001b[0m\u001b[0;34m\u001b[0m\u001b[0;34m\u001b[0m\u001b[0m\n\u001b[0;32m---> 22\u001b[0;31m \u001b[0mqc\u001b[0m\u001b[0;34m.\u001b[0m\u001b[0minitialize\u001b[0m\u001b[0;34m(\u001b[0m\u001b[0mdesired_state\u001b[0m\u001b[0;34m,\u001b[0m \u001b[0;36m0\u001b[0m\u001b[0;34m)\u001b[0m\u001b[0;34m\u001b[0m\u001b[0;34m\u001b[0m\u001b[0m\n\u001b[0m\u001b[1;32m     23\u001b[0m \u001b[0;34m\u001b[0m\u001b[0m\n\u001b[1;32m     24\u001b[0m \u001b[0;31m#1.APLICACIÓN DE PUERTAS PARA CREAR EL ESTADO DE BELL\u001b[0m\u001b[0;34m\u001b[0m\u001b[0;34m\u001b[0m\u001b[0m\n",
            "\u001b[0;32m/usr/local/lib/python3.11/dist-packages/qiskit/circuit/quantumcircuit.py\u001b[0m in \u001b[0;36minitialize\u001b[0;34m(self, params, qubits, normalize)\u001b[0m\n\u001b[1;32m   5907\u001b[0m         \u001b[0mnum_qubits\u001b[0m \u001b[0;34m=\u001b[0m \u001b[0mlen\u001b[0m\u001b[0;34m(\u001b[0m\u001b[0mqubits\u001b[0m\u001b[0;34m)\u001b[0m \u001b[0;32mif\u001b[0m \u001b[0misinstance\u001b[0m\u001b[0;34m(\u001b[0m\u001b[0mparams\u001b[0m\u001b[0;34m,\u001b[0m \u001b[0mint\u001b[0m\u001b[0;34m)\u001b[0m \u001b[0;32melse\u001b[0m \u001b[0;32mNone\u001b[0m\u001b[0;34m\u001b[0m\u001b[0;34m\u001b[0m\u001b[0m\n\u001b[1;32m   5908\u001b[0m \u001b[0;34m\u001b[0m\u001b[0m\n\u001b[0;32m-> 5909\u001b[0;31m         \u001b[0;32mreturn\u001b[0m \u001b[0mself\u001b[0m\u001b[0;34m.\u001b[0m\u001b[0mappend\u001b[0m\u001b[0;34m(\u001b[0m\u001b[0mInitialize\u001b[0m\u001b[0;34m(\u001b[0m\u001b[0mparams\u001b[0m\u001b[0;34m,\u001b[0m \u001b[0mnum_qubits\u001b[0m\u001b[0;34m,\u001b[0m \u001b[0mnormalize\u001b[0m\u001b[0;34m)\u001b[0m\u001b[0;34m,\u001b[0m \u001b[0mqubits\u001b[0m\u001b[0;34m,\u001b[0m \u001b[0mcopy\u001b[0m\u001b[0;34m=\u001b[0m\u001b[0;32mFalse\u001b[0m\u001b[0;34m)\u001b[0m\u001b[0;34m\u001b[0m\u001b[0;34m\u001b[0m\u001b[0m\n\u001b[0m\u001b[1;32m   5910\u001b[0m \u001b[0;34m\u001b[0m\u001b[0m\n\u001b[1;32m   5911\u001b[0m     def unitary(\n",
            "\u001b[0;32m/usr/local/lib/python3.11/dist-packages/qiskit/circuit/library/data_preparation/initializer.py\u001b[0m in \u001b[0;36m__init__\u001b[0;34m(self, params, num_qubits, normalize)\u001b[0m\n\u001b[1;32m     73\u001b[0m             \u001b[0mnormalize\u001b[0m\u001b[0;34m:\u001b[0m \u001b[0mWhether\u001b[0m \u001b[0mto\u001b[0m \u001b[0mnormalize\u001b[0m \u001b[0man\u001b[0m \u001b[0minput\u001b[0m \u001b[0marray\u001b[0m \u001b[0mto\u001b[0m \u001b[0ma\u001b[0m \u001b[0munit\u001b[0m \u001b[0mvector\u001b[0m\u001b[0;34m.\u001b[0m\u001b[0;34m\u001b[0m\u001b[0;34m\u001b[0m\u001b[0m\n\u001b[1;32m     74\u001b[0m         \"\"\"\n\u001b[0;32m---> 75\u001b[0;31m         \u001b[0mself\u001b[0m\u001b[0;34m.\u001b[0m\u001b[0m_stateprep\u001b[0m \u001b[0;34m=\u001b[0m \u001b[0mStatePreparation\u001b[0m\u001b[0;34m(\u001b[0m\u001b[0mparams\u001b[0m\u001b[0;34m,\u001b[0m \u001b[0mnum_qubits\u001b[0m\u001b[0;34m,\u001b[0m \u001b[0mnormalize\u001b[0m\u001b[0;34m=\u001b[0m\u001b[0mnormalize\u001b[0m\u001b[0;34m)\u001b[0m\u001b[0;34m\u001b[0m\u001b[0;34m\u001b[0m\u001b[0m\n\u001b[0m\u001b[1;32m     76\u001b[0m \u001b[0;34m\u001b[0m\u001b[0m\n\u001b[1;32m     77\u001b[0m         \u001b[0msuper\u001b[0m\u001b[0;34m(\u001b[0m\u001b[0;34m)\u001b[0m\u001b[0;34m.\u001b[0m\u001b[0m__init__\u001b[0m\u001b[0;34m(\u001b[0m\u001b[0;34m\"initialize\"\u001b[0m\u001b[0;34m,\u001b[0m \u001b[0mself\u001b[0m\u001b[0;34m.\u001b[0m\u001b[0m_stateprep\u001b[0m\u001b[0;34m.\u001b[0m\u001b[0mnum_qubits\u001b[0m\u001b[0;34m,\u001b[0m \u001b[0;36m0\u001b[0m\u001b[0;34m,\u001b[0m \u001b[0mself\u001b[0m\u001b[0;34m.\u001b[0m\u001b[0m_stateprep\u001b[0m\u001b[0;34m.\u001b[0m\u001b[0mparams\u001b[0m\u001b[0;34m)\u001b[0m\u001b[0;34m\u001b[0m\u001b[0;34m\u001b[0m\u001b[0m\n",
            "\u001b[0;32m/usr/local/lib/python3.11/dist-packages/qiskit/circuit/library/data_preparation/state_preparation.py\u001b[0m in \u001b[0;36m__init__\u001b[0;34m(self, params, num_qubits, inverse, label, normalize)\u001b[0m\n\u001b[1;32m    107\u001b[0m                 \u001b[0mparams\u001b[0m \u001b[0;34m=\u001b[0m \u001b[0mnp\u001b[0m\u001b[0;34m.\u001b[0m\u001b[0marray\u001b[0m\u001b[0;34m(\u001b[0m\u001b[0mparams\u001b[0m\u001b[0;34m,\u001b[0m \u001b[0mdtype\u001b[0m\u001b[0;34m=\u001b[0m\u001b[0mnp\u001b[0m\u001b[0;34m.\u001b[0m\u001b[0mcomplex128\u001b[0m\u001b[0;34m)\u001b[0m \u001b[0;34m/\u001b[0m \u001b[0mnorm\u001b[0m\u001b[0;34m\u001b[0m\u001b[0;34m\u001b[0m\u001b[0m\n\u001b[1;32m    108\u001b[0m             \u001b[0;32melif\u001b[0m \u001b[0;32mnot\u001b[0m \u001b[0mmath\u001b[0m\u001b[0;34m.\u001b[0m\u001b[0misclose\u001b[0m\u001b[0;34m(\u001b[0m\u001b[0mnorm\u001b[0m\u001b[0;34m,\u001b[0m \u001b[0;36m1.0\u001b[0m\u001b[0;34m,\u001b[0m \u001b[0mabs_tol\u001b[0m\u001b[0;34m=\u001b[0m\u001b[0m_EPS\u001b[0m\u001b[0;34m)\u001b[0m\u001b[0;34m:\u001b[0m\u001b[0;34m\u001b[0m\u001b[0;34m\u001b[0m\u001b[0m\n\u001b[0;32m--> 109\u001b[0;31m                 \u001b[0;32mraise\u001b[0m \u001b[0mQiskitError\u001b[0m\u001b[0;34m(\u001b[0m\u001b[0;34mf\"Sum of amplitudes-squared is not 1, but {norm}.\"\u001b[0m\u001b[0;34m)\u001b[0m\u001b[0;34m\u001b[0m\u001b[0;34m\u001b[0m\u001b[0m\n\u001b[0m\u001b[1;32m    110\u001b[0m \u001b[0;34m\u001b[0m\u001b[0m\n\u001b[1;32m    111\u001b[0m         \u001b[0mnum_qubits\u001b[0m \u001b[0;34m=\u001b[0m \u001b[0mself\u001b[0m\u001b[0;34m.\u001b[0m\u001b[0m_get_num_qubits\u001b[0m\u001b[0;34m(\u001b[0m\u001b[0mnum_qubits\u001b[0m\u001b[0;34m,\u001b[0m \u001b[0mparams\u001b[0m\u001b[0;34m)\u001b[0m\u001b[0;34m\u001b[0m\u001b[0;34m\u001b[0m\u001b[0m\n",
            "\u001b[0;31mQiskitError\u001b[0m: 'Sum of amplitudes-squared is not 1, but 0.6614378277661477.'"
          ]
        }
      ],
      "source": [
        "# Initialize your qubit to be transmitted to a 25/75 probability amplitude of it being 0/1\n",
        "#### YOUR CODE HERE\n",
        "from qiskit import QuantumCircuit\n",
        "from qiskit import QuantumRegister, ClassicalRegister\n",
        "import math\n",
        "\n",
        "#CREACIÓN DEL CIRCUITO\n",
        "\n",
        "#Número de qubits\n",
        "qubit = QuantumRegister(3, 'q') #qubits cuanticos\n",
        "\n",
        "#Número de bits (Cada qubit lleva un bit asociado)\n",
        "bit = ClassicalRegister(2, 'our_bit') #bits clasicos\n",
        "\n",
        "#Creamos el circuito con nuestros qubits y bits\n",
        "qc = QuantumCircuit(qubit, bit) # con (1,1) tambien funciona primero qubits segundo bits clasicos\n",
        "\n",
        "# Definir las amplitudes del estado\n",
        "desired_state = [1/2, math.sqrt(3)/4]  # [amplitud_0, amplitud_1]\n",
        "\n",
        "# Inicializar el qubit q0 en el estado deseado\n",
        "qc.initialize(desired_state, 0)\n",
        "\n",
        "#1.APLICACIÓN DE PUERTAS PARA CREAR EL ESTADO DE BELL\n",
        "\n",
        "qc.h(1)\n",
        "qc.cx(1,2) # q1 es el cubit de control y q2 el que actua\n",
        "\n",
        "#--------------------------------------------------------------------------------------------------\n",
        "\n",
        "#2.BELL STATE ANALYZER\n",
        "\n",
        "qc.barrier()\n",
        "qc.cx(0,1)\n",
        "qc.h(0)\n",
        "qc.barrier()\n",
        "\n",
        "#--------------------------------------------------------------------------------------------------\n",
        "#3.MEDICIONES\n",
        "\n",
        "qc.measure(1,1)\n",
        "qc.x(2).c_if(qc.clbits[1], 1)  # Si bit clásico 1 es 1, aplica X en q2\n",
        "qc.measure(0,0)\n",
        "#tambien puede hacerse como -> qc.measure([0,0],[1,1]) el primer corchete son los cubits y el segundo\n",
        "#los bits asociados a cada uno.\n",
        "\n",
        "qc.z(2).c_if(qc.clbits[0], 1)  # Si bit clásico 0 es 1, aplica Z en q2\n",
        "#---------------------------------------------------------------------------------------------------\n",
        "#DIBUJUAMOS EL CIRCUITO\n",
        "qc.draw(output='mpl')\n",
        "####\n",
        "\n",
        "\n",
        "####"
      ]
    },
    {
      "cell_type": "code",
      "execution_count": null,
      "metadata": {
        "id": "PEowXlvBlI50"
      },
      "outputs": [],
      "source": [
        "# Launch your circuit on a simulator to see the distribution\n",
        "#### YOUR CODE HERE\n",
        "\n",
        "\n",
        "####"
      ]
    }
  ],
  "metadata": {
    "kernelspec": {
      "display_name": ".venv",
      "language": "python",
      "name": "python3"
    },
    "language_info": {
      "codemirror_mode": {
        "name": "ipython",
        "version": 3
      },
      "file_extension": ".py",
      "mimetype": "text/x-python",
      "name": "python",
      "nbconvert_exporter": "python",
      "pygments_lexer": "ipython3",
      "version": "3.13.1"
    },
    "colab": {
      "provenance": [],
      "include_colab_link": true
    }
  },
  "nbformat": 4,
  "nbformat_minor": 0
}