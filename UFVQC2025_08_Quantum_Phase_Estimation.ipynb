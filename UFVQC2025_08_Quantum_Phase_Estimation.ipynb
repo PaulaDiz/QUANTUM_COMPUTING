{
  "cells": [
    {
      "cell_type": "markdown",
      "metadata": {
        "id": "view-in-github",
        "colab_type": "text"
      },
      "source": [
        "<a href=\"https://colab.research.google.com/github/PaulaDiz/QUANTUM_COMPUTING/blob/main/UFVQC2025_08_Quantum_Phase_Estimation.ipynb\" target=\"_parent\"><img src=\"https://colab.research.google.com/assets/colab-badge.svg\" alt=\"Open In Colab\"/></a>"
      ]
    },
    {
      "cell_type": "markdown",
      "metadata": {
        "id": "CzPwnQZqGxFz"
      },
      "source": [
        "# UFVQC 08 - Quantum Phase Estimation"
      ]
    },
    {
      "cell_type": "code",
      "execution_count": null,
      "metadata": {
        "id": "ydJcW9FgGxF3"
      },
      "outputs": [],
      "source": [
        "from qiskit import QuantumCircuit, QuantumRegister, ClassicalRegister\n",
        "from math import pi\n",
        "from qiskit.visualization import plot_histogram"
      ]
    },
    {
      "cell_type": "markdown",
      "metadata": {
        "id": "15UCGJcmGxF6"
      },
      "source": [
        "### Objective\n",
        "\n",
        "We will implement the Quantum Phase Estimation!\n",
        "\n",
        "We will implement it for two gates, the S gate, and a custom gate.\n",
        "\n",
        "\n",
        "##### First things first: Copy your QFT Code below"
      ]
    },
    {
      "cell_type": "code",
      "execution_count": null,
      "metadata": {
        "id": "f13Mm4PwGxF7"
      },
      "outputs": [],
      "source": [
        "def homemade_QFT(n_qubits, inverse=False):\n",
        "    '''\n",
        "    Your Code Here\n",
        "    '''\n",
        "    return qft"
      ]
    },
    {
      "cell_type": "markdown",
      "metadata": {
        "id": "zSUCAmx0GxF8"
      },
      "source": [
        "# Our custom QPE implementation\n",
        "\n",
        "## Part 1. Implementation for the `S gate`\n",
        "\n",
        "The `S Gate` does a **pi/2** phase rotation clockwise.\n",
        "\n",
        "As it works in the same way the `Z Gate` does, it's eigenvector will be **|1>**.\n",
        "\n",
        "We will need 2 qubits for the output register"
      ]
    },
    {
      "cell_type": "markdown",
      "metadata": {
        "id": "hSLTZ2ErGxF9"
      },
      "source": [
        "### 1 - Create the quantum circuit"
      ]
    },
    {
      "cell_type": "code",
      "execution_count": null,
      "metadata": {
        "id": "BhS7lYxgGxF-"
      },
      "outputs": [],
      "source": [
        "## Okay here are some tips:\n",
        "# 1. Try to create different variables for each register, so we can label them:\n",
        "#    - If in this case we need two, create them with their qubit numbers, and label them with good names.\n",
        "# 2. The same goes for the classical register, we might only use them for intermediate values (e.g. Q Teleportation).\n",
        "# 3. Use a single Jupyter Notebook cell for each part of the code, the next one should be the one that defines the circuit."
      ]
    },
    {
      "cell_type": "code",
      "execution_count": null,
      "metadata": {
        "id": "cZL33KqoGxF-"
      },
      "outputs": [],
      "source": [
        "## Do as the tip no. 3 says here...."
      ]
    },
    {
      "cell_type": "markdown",
      "metadata": {
        "id": "sFhUCGolGxF_"
      },
      "source": [
        "### 2 - Set the output register to a superposition of states"
      ]
    },
    {
      "cell_type": "code",
      "execution_count": null,
      "metadata": {
        "id": "6TXDjblfGxGA"
      },
      "outputs": [],
      "source": [
        "## More tips for this:\n",
        "# You can add Hadamard gates in many ways, but in this case, use the name of the register you created\n",
        "# e.g. .h(your_register)\n",
        "# See, this code is easier to read and program."
      ]
    },
    {
      "cell_type": "markdown",
      "metadata": {
        "id": "fNyqiJ-ZGxGB"
      },
      "source": [
        "### 3 - Prepare the eigenvector for applying the `S Gate`\n",
        "\n",
        "Remember, in our case, the eigenvector is given and it's |1>. The current state of your vector should be |0>."
      ]
    },
    {
      "cell_type": "code",
      "execution_count": null,
      "metadata": {
        "id": "PJgv-BrnGxGB"
      },
      "outputs": [],
      "source": []
    },
    {
      "cell_type": "markdown",
      "metadata": {
        "id": "su9bw83WGxGC"
      },
      "source": [
        "### 4 - Run the iterations of the `S Gate`\n",
        "\n",
        "We now need to codify this phase into our Output Register, currently in the fourier basis."
      ]
    },
    {
      "cell_type": "code",
      "execution_count": null,
      "metadata": {
        "id": "ShPIeSMdGxGC"
      },
      "outputs": [],
      "source": []
    },
    {
      "cell_type": "markdown",
      "metadata": {
        "id": "iDj5wjL5GxGD"
      },
      "source": [
        "### 5 - Convert from the Fourier Basis, to the Computational Basis (IQFT)"
      ]
    },
    {
      "cell_type": "code",
      "execution_count": null,
      "metadata": {
        "id": "gU2OzOyvGxGD"
      },
      "outputs": [],
      "source": [
        "## Some tips\n",
        "# Your homemade code, gave you a circuit object, you now need to add this circuit, to your main circuit.\n",
        "# You can do this with the .append() method, and the name of the circuit you created.\n",
        "# e.g. qc.append(homemade_QFT(3), <<The qubits you want to add the circuit to>>)\n"
      ]
    },
    {
      "cell_type": "code",
      "execution_count": null,
      "metadata": {
        "id": "RUBhpNgiGxGE"
      },
      "outputs": [],
      "source": []
    },
    {
      "cell_type": "markdown",
      "metadata": {
        "id": "tPmPKvXcGxGE"
      },
      "source": [
        "### 6 - Run your circuit, and plot the results"
      ]
    },
    {
      "cell_type": "code",
      "execution_count": null,
      "metadata": {
        "id": "-mGlewQ_GxGE"
      },
      "outputs": [],
      "source": [
        "## Use the counts with the plot_histogram function in order to visualize the results easily."
      ]
    },
    {
      "cell_type": "markdown",
      "metadata": {
        "id": "MFb_xs6ZGxGF"
      },
      "source": [
        "### 7 - Interpret the results"
      ]
    },
    {
      "cell_type": "code",
      "execution_count": null,
      "metadata": {
        "id": "6Of8xQXMGxGF"
      },
      "outputs": [],
      "source": [
        "## Given your output binary number convert it to a fraction, and calculate the phase.\n",
        "\n",
        "## What is the phase you got?"
      ]
    },
    {
      "cell_type": "markdown",
      "metadata": {
        "id": "BFKOP6XtGxGG"
      },
      "source": []
    },
    {
      "cell_type": "markdown",
      "metadata": {
        "id": "vjFe9PLyGxGG"
      },
      "source": [
        "## Part 2. Implementation for the `??? gate`\n",
        "\n",
        "We now have a custom gate, which we do not know the phase it applies to it's eigenvector.\n",
        "(Let's act as if we dont know it)\n",
        "\n",
        "We do know, that it's eigenvector is still **|1>**.\n",
        "\n",
        "We will need 3 qubits for the output register.\n",
        "\n",
        "You can apply this gate using `.cp(phase, control_qubit, target_qubit)`"
      ]
    },
    {
      "cell_type": "code",
      "execution_count": null,
      "metadata": {
        "id": "VNQ7qo5BGxGH"
      },
      "outputs": [],
      "source": [
        "phase = 2*3*pi/8 # Do not change this line! This is our \"secret\" phase.\n",
        "\n",
        "## Now do the procedure as before! Let's see if you can get the phase!"
      ]
    },
    {
      "cell_type": "code",
      "execution_count": null,
      "metadata": {
        "id": "kmz4-9AYGxGH"
      },
      "outputs": [],
      "source": []
    }
  ],
  "metadata": {
    "kernelspec": {
      "display_name": ".venv",
      "language": "python",
      "name": "python3"
    },
    "language_info": {
      "codemirror_mode": {
        "name": "ipython",
        "version": 3
      },
      "file_extension": ".py",
      "mimetype": "text/x-python",
      "name": "python",
      "nbconvert_exporter": "python",
      "pygments_lexer": "ipython3",
      "version": "3.13.2"
    },
    "colab": {
      "provenance": [],
      "include_colab_link": true
    }
  },
  "nbformat": 4,
  "nbformat_minor": 0
}