{
  "cells": [
    {
      "cell_type": "markdown",
      "metadata": {
        "id": "view-in-github",
        "colab_type": "text"
      },
      "source": [
        "<a href=\"https://colab.research.google.com/github/PaulaDiz/QUANTUM_COMPUTING/blob/main/UFVQC2025_01_IntroAndBellStates.ipynb\" target=\"_parent\"><img src=\"https://colab.research.google.com/assets/colab-badge.svg\" alt=\"Open In Colab\"/></a>"
      ]
    },
    {
      "cell_type": "code",
      "execution_count": 3,
      "metadata": {
        "colab": {
          "base_uri": "https://localhost:8080/"
        },
        "id": "YEGOXJDoalBl",
        "outputId": "59467fb9-7128-42e6-9f87-f9f461e0ad27"
      },
      "outputs": [
        {
          "output_type": "stream",
          "name": "stdout",
          "text": [
            "Collecting qiskit\n",
            "  Downloading qiskit-1.3.2-cp39-abi3-manylinux_2_17_x86_64.manylinux2014_x86_64.whl.metadata (12 kB)\n",
            "Collecting qiskit-ibm-runtime\n",
            "  Downloading qiskit_ibm_runtime-0.35.0-py3-none-any.whl.metadata (20 kB)\n",
            "Collecting rustworkx>=0.15.0 (from qiskit)\n",
            "  Downloading rustworkx-0.16.0-cp39-abi3-manylinux_2_17_x86_64.manylinux2014_x86_64.whl.metadata (10 kB)\n",
            "Requirement already satisfied: numpy<3,>=1.17 in /usr/local/lib/python3.11/dist-packages (from qiskit) (1.26.4)\n",
            "Requirement already satisfied: scipy>=1.5 in /usr/local/lib/python3.11/dist-packages (from qiskit) (1.13.1)\n",
            "Requirement already satisfied: sympy>=1.3 in /usr/local/lib/python3.11/dist-packages (from qiskit) (1.13.1)\n",
            "Collecting dill>=0.3 (from qiskit)\n",
            "  Downloading dill-0.3.9-py3-none-any.whl.metadata (10 kB)\n",
            "Requirement already satisfied: python-dateutil>=2.8.0 in /usr/local/lib/python3.11/dist-packages (from qiskit) (2.8.2)\n",
            "Collecting stevedore>=3.0.0 (from qiskit)\n",
            "  Downloading stevedore-5.4.0-py3-none-any.whl.metadata (2.3 kB)\n",
            "Requirement already satisfied: typing-extensions in /usr/local/lib/python3.11/dist-packages (from qiskit) (4.12.2)\n",
            "Collecting symengine<0.14,>=0.11 (from qiskit)\n",
            "  Downloading symengine-0.13.0-cp311-cp311-manylinux_2_17_x86_64.manylinux2014_x86_64.whl.metadata (1.2 kB)\n",
            "Requirement already satisfied: requests>=2.19 in /usr/local/lib/python3.11/dist-packages (from qiskit-ibm-runtime) (2.32.3)\n",
            "Collecting requests-ntlm>=1.1.0 (from qiskit-ibm-runtime)\n",
            "  Downloading requests_ntlm-1.3.0-py3-none-any.whl.metadata (2.4 kB)\n",
            "Requirement already satisfied: urllib3>=1.21.1 in /usr/local/lib/python3.11/dist-packages (from qiskit-ibm-runtime) (2.3.0)\n",
            "Requirement already satisfied: websocket-client>=1.5.1 in /usr/local/lib/python3.11/dist-packages (from qiskit-ibm-runtime) (1.8.0)\n",
            "Collecting ibm-platform-services>=0.22.6 (from qiskit-ibm-runtime)\n",
            "  Downloading ibm_platform_services-0.59.1-py3-none-any.whl.metadata (9.0 kB)\n",
            "Collecting pydantic<2.10,>=2.5.0 (from qiskit-ibm-runtime)\n",
            "  Downloading pydantic-2.9.2-py3-none-any.whl.metadata (149 kB)\n",
            "\u001b[2K     \u001b[90m━━━━━━━━━━━━━━━━━━━━━━━━━━━━━━━━━━━━━━━━\u001b[0m \u001b[32m149.4/149.4 kB\u001b[0m \u001b[31m2.8 MB/s\u001b[0m eta \u001b[36m0:00:00\u001b[0m\n",
            "\u001b[?25hRequirement already satisfied: matplotlib>=3.3 in /usr/local/lib/python3.11/dist-packages (from qiskit[visualization]) (3.10.0)\n",
            "Requirement already satisfied: pydot in /usr/local/lib/python3.11/dist-packages (from qiskit[visualization]) (3.0.4)\n",
            "Requirement already satisfied: Pillow>=4.2.1 in /usr/local/lib/python3.11/dist-packages (from qiskit[visualization]) (11.1.0)\n",
            "Collecting pylatexenc>=1.4 (from qiskit[visualization])\n",
            "  Downloading pylatexenc-2.10.tar.gz (162 kB)\n",
            "\u001b[2K     \u001b[90m━━━━━━━━━━━━━━━━━━━━━━━━━━━━━━━━━━━━━━━━\u001b[0m \u001b[32m162.6/162.6 kB\u001b[0m \u001b[31m6.5 MB/s\u001b[0m eta \u001b[36m0:00:00\u001b[0m\n",
            "\u001b[?25h  Preparing metadata (setup.py) ... \u001b[?25l\u001b[?25hdone\n",
            "Requirement already satisfied: seaborn>=0.9.0 in /usr/local/lib/python3.11/dist-packages (from qiskit[visualization]) (0.13.2)\n",
            "Collecting ibm_cloud_sdk_core<4.0.0,>=3.22.0 (from ibm-platform-services>=0.22.6->qiskit-ibm-runtime)\n",
            "  Downloading ibm_cloud_sdk_core-3.22.1-py3-none-any.whl.metadata (8.6 kB)\n",
            "Requirement already satisfied: contourpy>=1.0.1 in /usr/local/lib/python3.11/dist-packages (from matplotlib>=3.3->qiskit[visualization]) (1.3.1)\n",
            "Requirement already satisfied: cycler>=0.10 in /usr/local/lib/python3.11/dist-packages (from matplotlib>=3.3->qiskit[visualization]) (0.12.1)\n",
            "Requirement already satisfied: fonttools>=4.22.0 in /usr/local/lib/python3.11/dist-packages (from matplotlib>=3.3->qiskit[visualization]) (4.55.8)\n",
            "Requirement already satisfied: kiwisolver>=1.3.1 in /usr/local/lib/python3.11/dist-packages (from matplotlib>=3.3->qiskit[visualization]) (1.4.8)\n",
            "Requirement already satisfied: packaging>=20.0 in /usr/local/lib/python3.11/dist-packages (from matplotlib>=3.3->qiskit[visualization]) (24.2)\n",
            "Requirement already satisfied: pyparsing>=2.3.1 in /usr/local/lib/python3.11/dist-packages (from matplotlib>=3.3->qiskit[visualization]) (3.2.1)\n",
            "Requirement already satisfied: annotated-types>=0.6.0 in /usr/local/lib/python3.11/dist-packages (from pydantic<2.10,>=2.5.0->qiskit-ibm-runtime) (0.7.0)\n",
            "Collecting pydantic-core==2.23.4 (from pydantic<2.10,>=2.5.0->qiskit-ibm-runtime)\n",
            "  Downloading pydantic_core-2.23.4-cp311-cp311-manylinux_2_17_x86_64.manylinux2014_x86_64.whl.metadata (6.6 kB)\n",
            "Requirement already satisfied: six>=1.5 in /usr/local/lib/python3.11/dist-packages (from python-dateutil>=2.8.0->qiskit) (1.17.0)\n",
            "Requirement already satisfied: charset-normalizer<4,>=2 in /usr/local/lib/python3.11/dist-packages (from requests>=2.19->qiskit-ibm-runtime) (3.4.1)\n",
            "Requirement already satisfied: idna<4,>=2.5 in /usr/local/lib/python3.11/dist-packages (from requests>=2.19->qiskit-ibm-runtime) (3.10)\n",
            "Requirement already satisfied: certifi>=2017.4.17 in /usr/local/lib/python3.11/dist-packages (from requests>=2.19->qiskit-ibm-runtime) (2025.1.31)\n",
            "Requirement already satisfied: cryptography>=1.3 in /usr/local/lib/python3.11/dist-packages (from requests-ntlm>=1.1.0->qiskit-ibm-runtime) (43.0.3)\n",
            "Collecting pyspnego>=0.4.0 (from requests-ntlm>=1.1.0->qiskit-ibm-runtime)\n",
            "  Downloading pyspnego-0.11.2-py3-none-any.whl.metadata (5.4 kB)\n",
            "Requirement already satisfied: pandas>=1.2 in /usr/local/lib/python3.11/dist-packages (from seaborn>=0.9.0->qiskit[visualization]) (2.2.2)\n",
            "Collecting pbr>=2.0.0 (from stevedore>=3.0.0->qiskit)\n",
            "  Downloading pbr-6.1.1-py2.py3-none-any.whl.metadata (3.4 kB)\n",
            "Requirement already satisfied: mpmath<1.4,>=1.1.0 in /usr/local/lib/python3.11/dist-packages (from sympy>=1.3->qiskit) (1.3.0)\n",
            "Requirement already satisfied: cffi>=1.12 in /usr/local/lib/python3.11/dist-packages (from cryptography>=1.3->requests-ntlm>=1.1.0->qiskit-ibm-runtime) (1.17.1)\n",
            "Requirement already satisfied: PyJWT<3.0.0,>=2.8.0 in /usr/local/lib/python3.11/dist-packages (from ibm_cloud_sdk_core<4.0.0,>=3.22.0->ibm-platform-services>=0.22.6->qiskit-ibm-runtime) (2.10.1)\n",
            "Requirement already satisfied: pytz>=2020.1 in /usr/local/lib/python3.11/dist-packages (from pandas>=1.2->seaborn>=0.9.0->qiskit[visualization]) (2025.1)\n",
            "Requirement already satisfied: tzdata>=2022.7 in /usr/local/lib/python3.11/dist-packages (from pandas>=1.2->seaborn>=0.9.0->qiskit[visualization]) (2025.1)\n",
            "Requirement already satisfied: setuptools in /usr/local/lib/python3.11/dist-packages (from pbr>=2.0.0->stevedore>=3.0.0->qiskit) (75.1.0)\n",
            "Requirement already satisfied: pycparser in /usr/local/lib/python3.11/dist-packages (from cffi>=1.12->cryptography>=1.3->requests-ntlm>=1.1.0->qiskit-ibm-runtime) (2.22)\n",
            "Downloading qiskit-1.3.2-cp39-abi3-manylinux_2_17_x86_64.manylinux2014_x86_64.whl (6.8 MB)\n",
            "\u001b[2K   \u001b[90m━━━━━━━━━━━━━━━━━━━━━━━━━━━━━━━━━━━━━━━━\u001b[0m \u001b[32m6.8/6.8 MB\u001b[0m \u001b[31m75.1 MB/s\u001b[0m eta \u001b[36m0:00:00\u001b[0m\n",
            "\u001b[?25hDownloading qiskit_ibm_runtime-0.35.0-py3-none-any.whl (3.2 MB)\n",
            "\u001b[2K   \u001b[90m━━━━━━━━━━━━━━━━━━━━━━━━━━━━━━━━━━━━━━━━\u001b[0m \u001b[32m3.2/3.2 MB\u001b[0m \u001b[31m29.9 MB/s\u001b[0m eta \u001b[36m0:00:00\u001b[0m\n",
            "\u001b[?25hDownloading dill-0.3.9-py3-none-any.whl (119 kB)\n",
            "\u001b[2K   \u001b[90m━━━━━━━━━━━━━━━━━━━━━━━━━━━━━━━━━━━━━━━━\u001b[0m \u001b[32m119.4/119.4 kB\u001b[0m \u001b[31m8.4 MB/s\u001b[0m eta \u001b[36m0:00:00\u001b[0m\n",
            "\u001b[?25hDownloading ibm_platform_services-0.59.1-py3-none-any.whl (340 kB)\n",
            "\u001b[2K   \u001b[90m━━━━━━━━━━━━━━━━━━━━━━━━━━━━━━━━━━━━━━━━\u001b[0m \u001b[32m340.8/340.8 kB\u001b[0m \u001b[31m25.2 MB/s\u001b[0m eta \u001b[36m0:00:00\u001b[0m\n",
            "\u001b[?25hDownloading pydantic-2.9.2-py3-none-any.whl (434 kB)\n",
            "\u001b[2K   \u001b[90m━━━━━━━━━━━━━━━━━━━━━━━━━━━━━━━━━━━━━━━━\u001b[0m \u001b[32m434.9/434.9 kB\u001b[0m \u001b[31m27.7 MB/s\u001b[0m eta \u001b[36m0:00:00\u001b[0m\n",
            "\u001b[?25hDownloading pydantic_core-2.23.4-cp311-cp311-manylinux_2_17_x86_64.manylinux2014_x86_64.whl (2.1 MB)\n",
            "\u001b[2K   \u001b[90m━━━━━━━━━━━━━━━━━━━━━━━━━━━━━━━━━━━━━━━━\u001b[0m \u001b[32m2.1/2.1 MB\u001b[0m \u001b[31m68.6 MB/s\u001b[0m eta \u001b[36m0:00:00\u001b[0m\n",
            "\u001b[?25hDownloading requests_ntlm-1.3.0-py3-none-any.whl (6.6 kB)\n",
            "Downloading rustworkx-0.16.0-cp39-abi3-manylinux_2_17_x86_64.manylinux2014_x86_64.whl (2.1 MB)\n",
            "\u001b[2K   \u001b[90m━━━━━━━━━━━━━━━━━━━━━━━━━━━━━━━━━━━━━━━━\u001b[0m \u001b[32m2.1/2.1 MB\u001b[0m \u001b[31m82.9 MB/s\u001b[0m eta \u001b[36m0:00:00\u001b[0m\n",
            "\u001b[?25hDownloading stevedore-5.4.0-py3-none-any.whl (49 kB)\n",
            "\u001b[2K   \u001b[90m━━━━━━━━━━━━━━━━━━━━━━━━━━━━━━━━━━━━━━━━\u001b[0m \u001b[32m49.5/49.5 kB\u001b[0m \u001b[31m3.1 MB/s\u001b[0m eta \u001b[36m0:00:00\u001b[0m\n",
            "\u001b[?25hDownloading symengine-0.13.0-cp311-cp311-manylinux_2_17_x86_64.manylinux2014_x86_64.whl (49.7 MB)\n",
            "\u001b[2K   \u001b[90m━━━━━━━━━━━━━━━━━━━━━━━━━━━━━━━━━━━━━━━━\u001b[0m \u001b[32m49.7/49.7 MB\u001b[0m \u001b[31m19.9 MB/s\u001b[0m eta \u001b[36m0:00:00\u001b[0m\n",
            "\u001b[?25hDownloading ibm_cloud_sdk_core-3.22.1-py3-none-any.whl (69 kB)\n",
            "\u001b[2K   \u001b[90m━━━━━━━━━━━━━━━━━━━━━━━━━━━━━━━━━━━━━━━━\u001b[0m \u001b[32m69.4/69.4 kB\u001b[0m \u001b[31m4.2 MB/s\u001b[0m eta \u001b[36m0:00:00\u001b[0m\n",
            "\u001b[?25hDownloading pbr-6.1.1-py2.py3-none-any.whl (108 kB)\n",
            "\u001b[2K   \u001b[90m━━━━━━━━━━━━━━━━━━━━━━━━━━━━━━━━━━━━━━━━\u001b[0m \u001b[32m109.0/109.0 kB\u001b[0m \u001b[31m6.5 MB/s\u001b[0m eta \u001b[36m0:00:00\u001b[0m\n",
            "\u001b[?25hDownloading pyspnego-0.11.2-py3-none-any.whl (130 kB)\n",
            "\u001b[2K   \u001b[90m━━━━━━━━━━━━━━━━━━━━━━━━━━━━━━━━━━━━━━━━\u001b[0m \u001b[32m130.5/130.5 kB\u001b[0m \u001b[31m8.6 MB/s\u001b[0m eta \u001b[36m0:00:00\u001b[0m\n",
            "\u001b[?25hBuilding wheels for collected packages: pylatexenc\n",
            "  Building wheel for pylatexenc (setup.py) ... \u001b[?25l\u001b[?25hdone\n",
            "  Created wheel for pylatexenc: filename=pylatexenc-2.10-py3-none-any.whl size=136816 sha256=a7ca955782ec85cf7d7288ccc2514a33e1fb79413aa373967038c6fbe98474c5\n",
            "  Stored in directory: /root/.cache/pip/wheels/b1/7a/33/9fdd892f784ed4afda62b685ae3703adf4c91aa0f524c28f03\n",
            "Successfully built pylatexenc\n",
            "Installing collected packages: pylatexenc, symengine, rustworkx, pydantic-core, pbr, dill, stevedore, pydantic, ibm_cloud_sdk_core, qiskit, pyspnego, ibm-platform-services, requests-ntlm, qiskit-ibm-runtime\n",
            "  Attempting uninstall: pydantic-core\n",
            "    Found existing installation: pydantic_core 2.27.2\n",
            "    Uninstalling pydantic_core-2.27.2:\n",
            "      Successfully uninstalled pydantic_core-2.27.2\n",
            "  Attempting uninstall: pydantic\n",
            "    Found existing installation: pydantic 2.10.6\n",
            "    Uninstalling pydantic-2.10.6:\n",
            "      Successfully uninstalled pydantic-2.10.6\n",
            "Successfully installed dill-0.3.9 ibm-platform-services-0.59.1 ibm_cloud_sdk_core-3.22.1 pbr-6.1.1 pydantic-2.9.2 pydantic-core-2.23.4 pylatexenc-2.10 pyspnego-0.11.2 qiskit-1.3.2 qiskit-ibm-runtime-0.35.0 requests-ntlm-1.3.0 rustworkx-0.16.0 stevedore-5.4.0 symengine-0.13.0\n"
          ]
        }
      ],
      "source": [
        "## For google Collab users, remove if you are running on your local machine\n",
        "!pip install qiskit qiskit-ibm-runtime qiskit[visualization]\n",
        "\n",
        "import qiskit\n"
      ]
    },
    {
      "cell_type": "markdown",
      "metadata": {
        "id": "TXm8beeWalBn"
      },
      "source": [
        "###### QC UFV 2025\n",
        "#  01 - Introduction and Bell States\n",
        "\n",
        "\n",
        "Please, get used to checking the documentation of libraries you program with, in this case, Qiskit:\n",
        "\n",
        "<div class=\"alert alert-block alert-info\">\n",
        "<a href=\"https://docs.quantum.ibm.com/guides\">Qiskit Documentation</a>\n",
        "</div>\n",
        "\n",
        "---\n",
        "\n",
        "### Quantum Circuits\n",
        "\n",
        "In this course, we will use Qiskit in order to define quantum circuits, and to run them on simulators and real hardware.\n",
        "\n",
        "As we saw previously, there are three sections in any circuit:\n",
        "1. Initialization\n",
        "2. Operations\n",
        "3. Measurements\n",
        "\n",
        "In Qiskit, we use the python class `QuantumCircuit` in order to encapsulate all of these sections.\n",
        "\n",
        "Here, we will see how to initialize a `QuantumCircuit` with 1 Qubit and 1 Classical Bit.\n",
        "We can use `QuantumRegister` to represent Qubits, and `ClassicalRegister` to represent Bits."
      ]
    },
    {
      "cell_type": "code",
      "execution_count": 4,
      "metadata": {
        "id": "86Kf4KwaalBo"
      },
      "outputs": [],
      "source": [
        "from qiskit import QuantumCircuit\n",
        "from qiskit import QuantumRegister, ClassicalRegister\n",
        "\n",
        "qubit = QuantumRegister(1, 'our_qubit') #qubits cuanticos\n",
        "bit = ClassicalRegister(1, 'our_bit') #bits clasicos\n",
        "qc = QuantumCircuit(qubit, bit) # con (1,1) tambien funciona primero qubits segundo bits clasicos"
      ]
    },
    {
      "cell_type": "markdown",
      "metadata": {
        "id": "apnUHLAValBo"
      },
      "source": [
        "Now, a circuit without operations serves no purpose, let's imagine we want to make a 1bit random number generator.\n",
        "\n",
        "Our objective, is to have a circuit, that each time its run, returns either 1 or 0, in a 50/50 distribution.\n",
        "\n",
        "For that, our circuit will have 3 phases:\n",
        "1. Initialization of our Qubit to |0> (This is the default in Qiskit, so we dont have to do anything)\n",
        "2. Modify the state so that we have this 50/50 probability of measuring 1 or 0.\n",
        "3. Measure our qubit, and save the result into our bit.\n",
        "\n",
        "In this case, for the operation we can just use a Hadamard gate to make our qubit a perfect 50/50 superposition."
      ]
    },
    {
      "cell_type": "code",
      "execution_count": 5,
      "metadata": {
        "colab": {
          "base_uri": "https://localhost:8080/"
        },
        "id": "rebtMCbLalBo",
        "outputId": "4df0fae8-7685-4eb8-8690-ee3e7875f3c2"
      },
      "outputs": [
        {
          "output_type": "execute_result",
          "data": {
            "text/plain": [
              "<qiskit.circuit.instructionset.InstructionSet at 0x7e1ee59a37f0>"
            ]
          },
          "metadata": {},
          "execution_count": 5
        }
      ],
      "source": [
        "# We apply the Hadamard gate to the qubit\n",
        "qc.h(qubit) #qubit[0]seria si tuvieramos dos y lo aplicariamos al segundo\n",
        "\n",
        "# We could also apply the Hadamard gate to the qubit using the following syntax\n",
        "# qc.h(0) < Index of the qubit"
      ]
    },
    {
      "cell_type": "code",
      "execution_count": 6,
      "metadata": {
        "colab": {
          "base_uri": "https://localhost:8080/"
        },
        "id": "OG-zdlC2alBo",
        "outputId": "4850040e-f19a-4752-910d-ebe4dbd1b623"
      },
      "outputs": [
        {
          "output_type": "execute_result",
          "data": {
            "text/plain": [
              "<qiskit.circuit.instructionset.InstructionSet at 0x7e1ee59a3880>"
            ]
          },
          "metadata": {},
          "execution_count": 6
        }
      ],
      "source": [
        "# Finally, we measure the qubit into our bit\n",
        "qc.measure(qubit, bit) #qubit[0]seria si tuvieramos dos y lo aplicariamos al segundo\n",
        "# esto significa q quiero medir ese qubit y guardarlo en ese bit\n",
        "# Again, we could also measure the qubit into our bit using the following syntax\n",
        "# qc.measure(0, 0) < Index of the qubit and bit"
      ]
    },
    {
      "cell_type": "code",
      "execution_count": 7,
      "metadata": {
        "colab": {
          "base_uri": "https://localhost:8080/",
          "height": 94
        },
        "id": "FVrNb76BalBp",
        "outputId": "7abf890f-c250-4e0b-b5dc-0e6d3b71669e"
      },
      "outputs": [
        {
          "output_type": "execute_result",
          "data": {
            "text/plain": [
              "           ┌───┐┌─┐\n",
              "our_qubit: ┤ H ├┤M├\n",
              "           └───┘└╥┘\n",
              "our_bit: 1/══════╩═\n",
              "                 0 "
            ],
            "text/html": [
              "<pre style=\"word-wrap: normal;white-space: pre;background: #fff0;line-height: 1.1;font-family: &quot;Courier New&quot;,Courier,monospace\">           ┌───┐┌─┐\n",
              "our_qubit: ┤ H ├┤M├\n",
              "           └───┘└╥┘\n",
              "our_bit: 1/══════╩═\n",
              "                 0 </pre>"
            ]
          },
          "metadata": {},
          "execution_count": 7
        }
      ],
      "source": [
        "# We can now visualize our circuit with:\n",
        "\n",
        "qc.draw() # If we dont have the visualization package"
      ]
    },
    {
      "cell_type": "code",
      "execution_count": 8,
      "metadata": {
        "colab": {
          "base_uri": "https://localhost:8080/",
          "height": 191
        },
        "id": "3_GMT9m_alBp",
        "outputId": "3d678cad-42d6-4b26-90cb-7481053e02b9"
      },
      "outputs": [
        {
          "output_type": "execute_result",
          "data": {
            "text/plain": [
              "<Figure size 387.659x200.667 with 1 Axes>"
            ],
            "image/png": "[encoded data removed]"
          },
          "metadata": {},
          "execution_count": 8
        }
      ],
      "source": [
        "qc.draw(output='mpl') # If we do"
      ]
    },
    {
      "cell_type": "markdown",
      "metadata": {
        "id": "bS6NtyvUalBp"
      },
      "source": [
        "Great! We have our random bit generator.\n",
        "\n",
        "Now, this is of no use if we dont actually run it, so we will do this next!"
      ]
    },
    {
      "cell_type": "markdown",
      "metadata": {
        "id": "H2hgVWtFalBp"
      },
      "source": [
        "In Qiskit the service that runs circuits is called Qiskit Runtime, and it allows for two kinds of results:\n",
        "\n",
        "- Sampler te da una distribucion\n",
        "- Estimator este te da el expectation value (la media)\n",
        "\n",
        "They are essentially the same thing, they run our circuit and return a value, the only change is in how they return it:\n",
        "\n",
        "- The Sampler returns a distribution of the results given by our circuit.\n",
        "- The Estimator, returns the _Expectation value_ of our circuit instead. (We will see this in another class)\n",
        "\n",
        "Let's use the sampler for now."
      ]
    },
    {
      "cell_type": "code",
      "execution_count": 9,
      "metadata": {
        "id": "Iev17L79alBq"
      },
      "outputs": [],
      "source": [
        "# The part we dont care about now\n",
        "from qiskit_ibm_runtime import SamplerV2 as Sampler\n",
        "from qiskit_ibm_runtime.fake_provider import FakeManilaV2  #procesador cuantico\n",
        "from qiskit.transpiler.preset_passmanagers import generate_preset_pass_manager\n",
        "\n",
        "fake_manila = FakeManilaV2()\n",
        "pm = generate_preset_pass_manager(backend=fake_manila, optimization_level=1)"
      ]
    },
    {
      "cell_type": "code",
      "execution_count": 10,
      "metadata": {
        "colab": {
          "base_uri": "https://localhost:8080/"
        },
        "id": "WIOn3EslalBq",
        "outputId": "ce0a002c-306c-42ed-f910-b6afd6dfa919"
      },
      "outputs": [
        {
          "output_type": "stream",
          "name": "stderr",
          "text": [
            "/usr/local/lib/python3.11/dist-packages/qiskit_ibm_runtime/fake_provider/fake_backend.py:468: RuntimeWarning: Aer not found, using qiskit.BasicSimulator and no noise.\n",
            "  warnings.warn(\n"
          ]
        },
        {
          "output_type": "execute_result",
          "data": {
            "text/plain": [
              "<qiskit_ibm_runtime.fake_provider.local_runtime_job.LocalRuntimeJob at 0x7e1edcc519d0>"
            ]
          },
          "metadata": {},
          "execution_count": 10
        }
      ],
      "source": [
        "# The part we care about now\n",
        "isa_qc = pm.run(qc)\n",
        "\n",
        "sampler = Sampler(mode=fake_manila)\n",
        "\n",
        "job = sampler.run([isa_qc], shots=1) #shots: cantidad de veces q lanzamos el circuito\n",
        "\n",
        "job"
      ]
    },
    {
      "cell_type": "code",
      "execution_count": 11,
      "metadata": {
        "colab": {
          "base_uri": "https://localhost:8080/"
        },
        "id": "PCfadrgTalBq",
        "outputId": "323a4059-25ee-4a0f-888f-8a2eb2c8be82"
      },
      "outputs": [
        {
          "output_type": "execute_result",
          "data": {
            "text/plain": [
              "<JobStatus.DONE: 'job has successfully run'>"
            ]
          },
          "metadata": {},
          "execution_count": 11
        }
      ],
      "source": [
        "# Lets see if the job has finished\n",
        "job.status()"
      ]
    },
    {
      "cell_type": "code",
      "execution_count": 12,
      "metadata": {
        "colab": {
          "base_uri": "https://localhost:8080/"
        },
        "id": "_YdoLan7alBq",
        "outputId": "72a76f81-9683-4e2e-f3ad-039071d64580"
      },
      "outputs": [
        {
          "output_type": "stream",
          "name": "stdout",
          "text": [
            "SamplerPubResult(data=DataBin(our_bit=BitArray(<shape=(), num_shots=1, num_bits=1>)), metadata={'shots': 1, 'circuit_metadata': {}})\n"
          ]
        }
      ],
      "source": [
        "# Lets get the results\n",
        "pub_result = job.result()[0]\n",
        "print(pub_result)"
      ]
    },
    {
      "cell_type": "code",
      "execution_count": 13,
      "metadata": {
        "colab": {
          "base_uri": "https://localhost:8080/"
        },
        "id": "AlP5_sy4alBr",
        "outputId": "8da83d9c-c730-4322-f05e-920e18cdbdff"
      },
      "outputs": [
        {
          "output_type": "execute_result",
          "data": {
            "text/plain": [
              "{'0': 1}"
            ]
          },
          "metadata": {},
          "execution_count": 13
        }
      ],
      "source": [
        "pub_result.data.our_bit.get_counts() # el uno es que ha salido una vez"
      ]
    },
    {
      "cell_type": "code",
      "source": [
        "qc.draw()"
      ],
      "metadata": {
        "colab": {
          "base_uri": "https://localhost:8080/",
          "height": 94
        },
        "id": "89ORRqVTkJTP",
        "outputId": "011de198-3f6a-4f8e-cb1c-a65e9140ff13"
      },
      "execution_count": 14,
      "outputs": [
        {
          "output_type": "execute_result",
          "data": {
            "text/plain": [
              "           ┌───┐┌─┐\n",
              "our_qubit: ┤ H ├┤M├\n",
              "           └───┘└╥┘\n",
              "our_bit: 1/══════╩═\n",
              "                 0 "
            ],
            "text/html": [
              "<pre style=\"word-wrap: normal;white-space: pre;background: #fff0;line-height: 1.1;font-family: &quot;Courier New&quot;,Courier,monospace\">           ┌───┐┌─┐\n",
              "our_qubit: ┤ H ├┤M├\n",
              "           └───┘└╥┘\n",
              "our_bit: 1/══════╩═\n",
              "                 0 </pre>"
            ]
          },
          "metadata": {},
          "execution_count": 14
        }
      ]
    },
    {
      "cell_type": "code",
      "execution_count": 15,
      "metadata": {
        "colab": {
          "base_uri": "https://localhost:8080/"
        },
        "id": "XY_DeZtDalBr",
        "outputId": "490e80bc-7fed-41af-c5f5-833adaca408e"
      },
      "outputs": [
        {
          "output_type": "stream",
          "name": "stdout",
          "text": [
            "SamplerPubResult(data=DataBin(our_bit=BitArray(<shape=(), num_shots=100, num_bits=1>)), metadata={'shots': 100, 'circuit_metadata': {}})\n"
          ]
        },
        {
          "output_type": "stream",
          "name": "stderr",
          "text": [
            "/usr/local/lib/python3.11/dist-packages/qiskit_ibm_runtime/fake_provider/fake_backend.py:468: RuntimeWarning: Aer not found, using qiskit.BasicSimulator and no noise.\n",
            "  warnings.warn(\n"
          ]
        },
        {
          "output_type": "execute_result",
          "data": {
            "text/plain": [
              "{'1': 42, '0': 58}"
            ]
          },
          "metadata": {},
          "execution_count": 15
        }
      ],
      "source": [
        "# Now, can you run this circuit 10, 100, 1000 times and see if the results are what you expect?\n",
        "\n",
        "# << Your code here >>\n",
        "# The part we dont care about now\n",
        "# Solo hace falta volver a copiar el compilador\n",
        "sampler = Sampler(mode=fake_manila)\n",
        "\n",
        "job = sampler.run([isa_qc], shots=100) #shots: cantidad de veces q lanzamos el circuito\n",
        "\n",
        "job\n",
        "# Lets see if the job has finished\n",
        "job.status()\n",
        "# Lets get the results\n",
        "pub_result = job.result()[0]\n",
        "print(pub_result)\n",
        "pub_result.data.our_bit.get_counts() # el uno es la probabilidad"
      ]
    },
    {
      "cell_type": "markdown",
      "metadata": {
        "id": "JEhp7gQralBr"
      },
      "source": [
        "---\n",
        "\n",
        "### Bell States\n",
        "\n",
        "Your task, program the simplest Bell State Circuit"
      ]
    },
    {
      "cell_type": "markdown",
      "source": [
        "El circuito para el estado de Bell $|\\Psi\\rangle = \\frac{1}{\\sqrt{2}}(|00\\rangle + |11\\rangle)$ es:"
      ],
      "metadata": {
        "id": "hfPiQ7fQtrDv"
      }
    },
    {
      "cell_type": "code",
      "execution_count": 32,
      "metadata": {
        "id": "UUg2zBb-alBr",
        "colab": {
          "base_uri": "https://localhost:8080/",
          "height": 255
        },
        "outputId": "ce03b154-939a-4b8b-d024-17bca3a9f362"
      },
      "outputs": [
        {
          "output_type": "execute_result",
          "data": {
            "text/plain": [
              "<Figure size 518.42x284.278 with 1 Axes>"
            ],
            "image/png": "[encoded data removed]"
          },
          "metadata": {},
          "execution_count": 32
        }
      ],
      "source": [
        "#CREACIÓN DEL CIRCUITO\n",
        "\n",
        "#Número de qubits\n",
        "qubit = QuantumRegister(2, 'q') #qubits cuanticos\n",
        "\n",
        "#Número de bits (Cada qubit lleva un bit asociado)\n",
        "bit = ClassicalRegister(2, 'our_bit') #bits clasicos\n",
        "\n",
        "#Creamos el circuito con nuestros qubits y bits\n",
        "qc = QuantumCircuit(qubit, bit) # con (1,1) tambien funciona primero qubits segundo bits clasicos\n",
        "#-------------------------------------------------------------------------------------------------\n",
        "\n",
        "#APLICACIÓN DE PUERTAS\n",
        "\n",
        "qc.h(qubit[0]) #qubit[0]seria si tuvieramos dos y lo aplicariamos al segundo\n",
        "qc.cx(0,1) # q0 es el cubit de control y q1 el que actua\n",
        "\n",
        "#--------------------------------------------------------------------------------------------------\n",
        "\n",
        "#MEDICIONES\n",
        "qc.measure(0,0)\n",
        "qc.measure(1,1)\n",
        "#tambien puede hacerse como -> qc.measure([0,0],[1,1]) el primer corchete son los cubits y el segundo\n",
        "#los bits asociados a cada uno.\n",
        "\n",
        "#----------------------------------------------------------------------------------------------------\n",
        "#DIBUJUAMOS EL CIRCUITO\n",
        "qc.draw(output='mpl')"
      ]
    },
    {
      "cell_type": "markdown",
      "source": [
        "el circuito para el estado de Bell $|\\Psi\\rangle = \\frac{1}{\\sqrt{2}}(|00\\rangle - |11\\rangle)$ es:"
      ],
      "metadata": {
        "id": "JKPOId9ttiTK"
      }
    },
    {
      "cell_type": "code",
      "source": [
        "#CREACIÓN DEL CIRCUITO\n",
        "\n",
        "#Número de qubits\n",
        "qubit = QuantumRegister(2, 'q') #qubits cuanticos\n",
        "\n",
        "#Número de bits (Cada qubit lleva un bit asociado)\n",
        "bit = ClassicalRegister(2, 'our_bit') #bits clasicos\n",
        "\n",
        "#Creamos el circuito con nuestros qubits y bits\n",
        "qc = QuantumCircuit(qubit, bit) # con (1,1) tambien funciona primero qubits segundo bits clasicos\n",
        "#-------------------------------------------------------------------------------------------------\n",
        "\n",
        "#APLICACIÓN DE PUERTAS\n",
        "\n",
        "qc.h(qubit[0]) # Aplicamos hadamard al primer cubit\n",
        "qc.cx(0,1) # q0 es el cubit de control y q1 el que actua\n",
        "qc.barrier()\n",
        "qc.z(qubit[0]) #Puerta z para cambiar el signo\n",
        "qc.barrier()\n",
        "\n",
        "#--------------------------------------------------------------------------------------------------\n",
        "\n",
        "#MEDICIONES\n",
        "qc.measure([0,1],[0,1])\n",
        "\n",
        "#----------------------------------------------------------------------------------------------------\n",
        "#DIBUJUAMOS EL CIRCUITO\n",
        "qc.draw(output='mpl')\n",
        "qc.draw(output='mpl')"
      ],
      "metadata": {
        "colab": {
          "base_uri": "https://localhost:8080/",
          "height": 255
        },
        "id": "DWLtvCG8myGI",
        "outputId": "4b3a32f0-eb28-4e95-da4c-e3777543ba60"
      },
      "execution_count": 24,
      "outputs": [
        {
          "output_type": "execute_result",
          "data": {
            "text/plain": [
              "<Figure size 685.642x284.278 with 1 Axes>"
            ],
            "image/png": "[encoded data removed]"
          },
          "metadata": {},
          "execution_count": 24
        }
      ]
    },
    {
      "cell_type": "markdown",
      "source": [
        "el circuito para el estado de Bell $|\\Psi\\rangle = \\frac{1}{\\sqrt{2}}(|10\\rangle + |01\\rangle)$ es:\n",
        "\n"
      ],
      "metadata": {
        "id": "fLJYbhSAtB16"
      }
    },
    {
      "cell_type": "code",
      "source": [
        "#CREACIÓN DEL CIRCUITO\n",
        "\n",
        "#Número de qubits\n",
        "qubit = QuantumRegister(2, 'q') #qubits cuanticos\n",
        "\n",
        "#Número de bits (Cada qubit lleva un bit asociado)\n",
        "bit = ClassicalRegister(2, 'our_bit') #bits clasicos\n",
        "\n",
        "#Creamos el circuito con nuestros qubits y bits\n",
        "qc = QuantumCircuit(qubit, bit) # con (1,1) tambien funciona primero qubits segundo bits clasicos\n",
        "#-------------------------------------------------------------------------------------------------\n",
        "\n",
        "#APLICACIÓN DE PUERTAS\n",
        "\n",
        "qc.h(qubit[0]) #qubit[0]seria si tuvieramos dos y lo aplicariamos al segundo\n",
        "qc.cx(0,1) # q0 es el cubit de control y q1 el que actua\n",
        "qc.barrier()\n",
        "qc.x(qubit[1])\n",
        "qc.barrier()\n",
        "\n",
        "#--------------------------------------------------------------------------------------------------\n",
        "\n",
        "#MEDICIONES\n",
        "qc.measure([0,1],[0,1])\n",
        "\n",
        "#----------------------------------------------------------------------------------------------------\n",
        "#DIBUJUAMOS EL CIRCUITO\n",
        "qc.draw(output='mpl')"
      ],
      "metadata": {
        "colab": {
          "base_uri": "https://localhost:8080/",
          "height": 255
        },
        "id": "_GQZ3RXSp81Q",
        "outputId": "4fc34965-354c-4cba-94a4-566d311ac6b6"
      },
      "execution_count": 33,
      "outputs": [
        {
          "output_type": "execute_result",
          "data": {
            "text/plain": [
              "<Figure size 769.253x284.278 with 1 Axes>"
            ],
            "image/png": "[encoded data removed]"
          },
          "metadata": {},
          "execution_count": 33
        }
      ]
    },
    {
      "cell_type": "markdown",
      "source": [
        "el circuito para el estado de Bell $|\\Psi\\rangle = \\frac{1}{\\sqrt{2}}(|10\\rangle - |01\\rangle)$ es:\n"
      ],
      "metadata": {
        "id": "RYDx53vVtUac"
      }
    },
    {
      "cell_type": "code",
      "source": [
        "#CREACIÓN DEL CIRCUITO\n",
        "\n",
        "#Número de qubits\n",
        "qubit = QuantumRegister(2, 'q') #qubits cuanticos\n",
        "\n",
        "#Número de bits (Cada qubit lleva un bit asociado)\n",
        "bit = ClassicalRegister(2, 'our_bit') #bits clasicos\n",
        "\n",
        "#Creamos el circuito con nuestros qubits y bits\n",
        "qc = QuantumCircuit(qubit, bit) # con (1,1) tambien funciona primero qubits segundo bits clasicos\n",
        "#-------------------------------------------------------------------------------------------------\n",
        "\n",
        "#APLICACIÓN DE PUERTAS\n",
        "\n",
        "qc.h(qubit[0]) #qubit[0]seria si tuvieramos dos y lo aplicariamos al segundo\n",
        "qc.cx(0,1) # q0 es el cubit de control y q1 el que actua\n",
        "qc.barrier()\n",
        "qc.x(qubit[1])\n",
        "qc.barrier()\n",
        "qc.z(qubit[0])\n",
        "qc.barrier()\n",
        "\n",
        "#--------------------------------------------------------------------------------------------------\n",
        "\n",
        "#MEDICIONES\n",
        "qc.measure([0,1],[0,1])\n",
        "\n",
        "#----------------------------------------------------------------------------------------------------\n",
        "#DIBUJUAMOS EL CIRCUITO\n",
        "qc.draw(output='mpl')"
      ],
      "metadata": {
        "colab": {
          "base_uri": "https://localhost:8080/",
          "height": 255
        },
        "id": "uf-FdDh5sjrD",
        "outputId": "6a5174c3-45d2-4236-92e8-22ce6769e806"
      },
      "execution_count": 34,
      "outputs": [
        {
          "output_type": "execute_result",
          "data": {
            "text/plain": [
              "<Figure size 936.475x284.278 with 1 Axes>"
            ],
            "image/png": "[encoded data removed]"
          },
          "metadata": {},
          "execution_count": 34
        }
      ]
    }
  ],
  "metadata": {
    "kernelspec": {
      "display_name": ".venv",
      "language": "python",
      "name": "python3"
    },
    "language_info": {
      "codemirror_mode": {
        "name": "ipython",
        "version": 3
      },
      "file_extension": ".py",
      "mimetype": "text/x-python",
      "name": "python",
      "nbconvert_exporter": "python",
      "pygments_lexer": "ipython3",
      "version": "3.13.1"
    },
    "colab": {
      "provenance": [],
      "include_colab_link": true
    }
  },
  "nbformat": 4,
  "nbformat_minor": 0
}