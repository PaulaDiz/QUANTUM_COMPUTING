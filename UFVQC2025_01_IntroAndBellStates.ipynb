{
  "cells": [
    {
      "cell_type": "markdown",
      "metadata": {
        "id": "view-in-github",
        "colab_type": "text"
      },
      "source": [
        "<a href=\"https://colab.research.google.com/github/PaulaDiz/QUANTUM_COMPUTING/blob/main/UFVQC2025_01_IntroAndBellStates.ipynb\" target=\"_parent\"><img src=\"https://colab.research.google.com/assets/colab-badge.svg\" alt=\"Open In Colab\"/></a>"
      ]
    },
    {
      "cell_type": "code",
      "execution_count": 63,
      "metadata": {
        "colab": {
          "base_uri": "https://localhost:8080/"
        },
        "id": "YEGOXJDoalBl",
        "outputId": "7cd153bb-4849-4aea-ff0d-28f0b8e15f2a"
      },
      "outputs": [
        {
          "output_type": "stream",
          "name": "stdout",
          "text": [
            "Requirement already satisfied: qiskit in /usr/local/lib/python3.11/dist-packages (1.3.2)\n",
            "Requirement already satisfied: qiskit-ibm-runtime in /usr/local/lib/python3.11/dist-packages (0.35.0)\n",
            "Requirement already satisfied: rustworkx>=0.15.0 in /usr/local/lib/python3.11/dist-packages (from qiskit) (0.16.0)\n",
            "Requirement already satisfied: numpy<3,>=1.17 in /usr/local/lib/python3.11/dist-packages (from qiskit) (1.26.4)\n",
            "Requirement already satisfied: scipy>=1.5 in /usr/local/lib/python3.11/dist-packages (from qiskit) (1.13.1)\n",
            "Requirement already satisfied: sympy>=1.3 in /usr/local/lib/python3.11/dist-packages (from qiskit) (1.13.1)\n",
            "Requirement already satisfied: dill>=0.3 in /usr/local/lib/python3.11/dist-packages (from qiskit) (0.3.9)\n",
            "Requirement already satisfied: python-dateutil>=2.8.0 in /usr/local/lib/python3.11/dist-packages (from qiskit) (2.8.2)\n",
            "Requirement already satisfied: stevedore>=3.0.0 in /usr/local/lib/python3.11/dist-packages (from qiskit) (5.4.0)\n",
            "Requirement already satisfied: typing-extensions in /usr/local/lib/python3.11/dist-packages (from qiskit) (4.12.2)\n",
            "Requirement already satisfied: symengine<0.14,>=0.11 in /usr/local/lib/python3.11/dist-packages (from qiskit) (0.13.0)\n",
            "Requirement already satisfied: requests>=2.19 in /usr/local/lib/python3.11/dist-packages (from qiskit-ibm-runtime) (2.32.3)\n",
            "Requirement already satisfied: requests-ntlm>=1.1.0 in /usr/local/lib/python3.11/dist-packages (from qiskit-ibm-runtime) (1.3.0)\n",
            "Requirement already satisfied: urllib3>=1.21.1 in /usr/local/lib/python3.11/dist-packages (from qiskit-ibm-runtime) (2.3.0)\n",
            "Requirement already satisfied: websocket-client>=1.5.1 in /usr/local/lib/python3.11/dist-packages (from qiskit-ibm-runtime) (1.8.0)\n",
            "Requirement already satisfied: ibm-platform-services>=0.22.6 in /usr/local/lib/python3.11/dist-packages (from qiskit-ibm-runtime) (0.59.1)\n",
            "Requirement already satisfied: pydantic<2.10,>=2.5.0 in /usr/local/lib/python3.11/dist-packages (from qiskit-ibm-runtime) (2.9.2)\n",
            "Requirement already satisfied: matplotlib>=3.3 in /usr/local/lib/python3.11/dist-packages (from qiskit[visualization]) (3.10.0)\n",
            "Requirement already satisfied: pydot in /usr/local/lib/python3.11/dist-packages (from qiskit[visualization]) (3.0.4)\n",
            "Requirement already satisfied: Pillow>=4.2.1 in /usr/local/lib/python3.11/dist-packages (from qiskit[visualization]) (11.1.0)\n",
            "Requirement already satisfied: pylatexenc>=1.4 in /usr/local/lib/python3.11/dist-packages (from qiskit[visualization]) (2.10)\n",
            "Requirement already satisfied: seaborn>=0.9.0 in /usr/local/lib/python3.11/dist-packages (from qiskit[visualization]) (0.13.2)\n",
            "Requirement already satisfied: ibm_cloud_sdk_core<4.0.0,>=3.22.0 in /usr/local/lib/python3.11/dist-packages (from ibm-platform-services>=0.22.6->qiskit-ibm-runtime) (3.22.1)\n",
            "Requirement already satisfied: contourpy>=1.0.1 in /usr/local/lib/python3.11/dist-packages (from matplotlib>=3.3->qiskit[visualization]) (1.3.1)\n",
            "Requirement already satisfied: cycler>=0.10 in /usr/local/lib/python3.11/dist-packages (from matplotlib>=3.3->qiskit[visualization]) (0.12.1)\n",
            "Requirement already satisfied: fonttools>=4.22.0 in /usr/local/lib/python3.11/dist-packages (from matplotlib>=3.3->qiskit[visualization]) (4.55.8)\n",
            "Requirement already satisfied: kiwisolver>=1.3.1 in /usr/local/lib/python3.11/dist-packages (from matplotlib>=3.3->qiskit[visualization]) (1.4.8)\n",
            "Requirement already satisfied: packaging>=20.0 in /usr/local/lib/python3.11/dist-packages (from matplotlib>=3.3->qiskit[visualization]) (24.2)\n",
            "Requirement already satisfied: pyparsing>=2.3.1 in /usr/local/lib/python3.11/dist-packages (from matplotlib>=3.3->qiskit[visualization]) (3.2.1)\n",
            "Requirement already satisfied: annotated-types>=0.6.0 in /usr/local/lib/python3.11/dist-packages (from pydantic<2.10,>=2.5.0->qiskit-ibm-runtime) (0.7.0)\n",
            "Requirement already satisfied: pydantic-core==2.23.4 in /usr/local/lib/python3.11/dist-packages (from pydantic<2.10,>=2.5.0->qiskit-ibm-runtime) (2.23.4)\n",
            "Requirement already satisfied: six>=1.5 in /usr/local/lib/python3.11/dist-packages (from python-dateutil>=2.8.0->qiskit) (1.17.0)\n",
            "Requirement already satisfied: charset-normalizer<4,>=2 in /usr/local/lib/python3.11/dist-packages (from requests>=2.19->qiskit-ibm-runtime) (3.4.1)\n",
            "Requirement already satisfied: idna<4,>=2.5 in /usr/local/lib/python3.11/dist-packages (from requests>=2.19->qiskit-ibm-runtime) (3.10)\n",
            "Requirement already satisfied: certifi>=2017.4.17 in /usr/local/lib/python3.11/dist-packages (from requests>=2.19->qiskit-ibm-runtime) (2025.1.31)\n",
            "Requirement already satisfied: cryptography>=1.3 in /usr/local/lib/python3.11/dist-packages (from requests-ntlm>=1.1.0->qiskit-ibm-runtime) (43.0.3)\n",
            "Requirement already satisfied: pyspnego>=0.4.0 in /usr/local/lib/python3.11/dist-packages (from requests-ntlm>=1.1.0->qiskit-ibm-runtime) (0.11.2)\n",
            "Requirement already satisfied: pandas>=1.2 in /usr/local/lib/python3.11/dist-packages (from seaborn>=0.9.0->qiskit[visualization]) (2.2.2)\n",
            "Requirement already satisfied: pbr>=2.0.0 in /usr/local/lib/python3.11/dist-packages (from stevedore>=3.0.0->qiskit) (6.1.1)\n",
            "Requirement already satisfied: mpmath<1.4,>=1.1.0 in /usr/local/lib/python3.11/dist-packages (from sympy>=1.3->qiskit) (1.3.0)\n",
            "Requirement already satisfied: cffi>=1.12 in /usr/local/lib/python3.11/dist-packages (from cryptography>=1.3->requests-ntlm>=1.1.0->qiskit-ibm-runtime) (1.17.1)\n",
            "Requirement already satisfied: PyJWT<3.0.0,>=2.8.0 in /usr/local/lib/python3.11/dist-packages (from ibm_cloud_sdk_core<4.0.0,>=3.22.0->ibm-platform-services>=0.22.6->qiskit-ibm-runtime) (2.10.1)\n",
            "Requirement already satisfied: pytz>=2020.1 in /usr/local/lib/python3.11/dist-packages (from pandas>=1.2->seaborn>=0.9.0->qiskit[visualization]) (2025.1)\n",
            "Requirement already satisfied: tzdata>=2022.7 in /usr/local/lib/python3.11/dist-packages (from pandas>=1.2->seaborn>=0.9.0->qiskit[visualization]) (2025.1)\n",
            "Requirement already satisfied: setuptools in /usr/local/lib/python3.11/dist-packages (from pbr>=2.0.0->stevedore>=3.0.0->qiskit) (75.1.0)\n",
            "Requirement already satisfied: pycparser in /usr/local/lib/python3.11/dist-packages (from cffi>=1.12->cryptography>=1.3->requests-ntlm>=1.1.0->qiskit-ibm-runtime) (2.22)\n"
          ]
        }
      ],
      "source": [
        "## For google Collab users, remove if you are running on your local machine\n",
        "!pip install qiskit qiskit-ibm-runtime qiskit[visualization]\n",
        "\n",
        "import qiskit\n"
      ]
    },
    {
      "cell_type": "markdown",
      "metadata": {
        "id": "TXm8beeWalBn"
      },
      "source": [
        "###### QC UFV 2025\n",
        "#  01 - Introduction and Bell States\n",
        "\n",
        "\n",
        "Please, get used to checking the documentation of libraries you program with, in this case, Qiskit:\n",
        "\n",
        "<div class=\"alert alert-block alert-info\">\n",
        "<a href=\"https://docs.quantum.ibm.com/guides\">Qiskit Documentation</a>\n",
        "</div>\n",
        "\n",
        "---\n",
        "\n",
        "### Quantum Circuits\n",
        "\n",
        "In this course, we will use Qiskit in order to define quantum circuits, and to run them on simulators and real hardware.\n",
        "\n",
        "As we saw previously, there are three sections in any circuit:\n",
        "1. Initialization\n",
        "2. Operations\n",
        "3. Measurements\n",
        "\n",
        "In Qiskit, we use the python class `QuantumCircuit` in order to encapsulate all of these sections.\n",
        "\n",
        "Here, we will see how to initialize a `QuantumCircuit` with 1 Qubit and 1 Classical Bit.\n",
        "We can use `QuantumRegister` to represent Qubits, and `ClassicalRegister` to represent Bits."
      ]
    },
    {
      "cell_type": "code",
      "execution_count": 64,
      "metadata": {
        "id": "86Kf4KwaalBo"
      },
      "outputs": [],
      "source": [
        "from qiskit import QuantumCircuit\n",
        "from qiskit import QuantumRegister, ClassicalRegister\n",
        "\n",
        "qubit = QuantumRegister(1, 'our_qubit') #qubits cuanticos\n",
        "bit = ClassicalRegister(1, 'our_bit') #bits clasicos\n",
        "qc = QuantumCircuit(qubit, bit) # con (1,1) tambien funciona primero qubits segundo bits clasicos"
      ]
    },
    {
      "cell_type": "markdown",
      "metadata": {
        "id": "apnUHLAValBo"
      },
      "source": [
        "Now, a circuit without operations serves no purpose, let's imagine we want to make a 1bit random number generator.\n",
        "\n",
        "Our objective, is to have a circuit, that each time its run, returns either 1 or 0, in a 50/50 distribution.\n",
        "\n",
        "For that, our circuit will have 3 phases:\n",
        "1. Initialization of our Qubit to |0> (This is the default in Qiskit, so we dont have to do anything)\n",
        "2. Modify the state so that we have this 50/50 probability of measuring 1 or 0.\n",
        "3. Measure our qubit, and save the result into our bit.\n",
        "\n",
        "In this case, for the operation we can just use a Hadamard gate to make our qubit a perfect 50/50 superposition."
      ]
    },
    {
      "cell_type": "code",
      "execution_count": 65,
      "metadata": {
        "colab": {
          "base_uri": "https://localhost:8080/"
        },
        "id": "rebtMCbLalBo",
        "outputId": "d5f020c9-f01f-45a6-c766-3c16b17a29c6"
      },
      "outputs": [
        {
          "output_type": "execute_result",
          "data": {
            "text/plain": [
              "<qiskit.circuit.instructionset.InstructionSet at 0x7e8efef142e0>"
            ]
          },
          "metadata": {},
          "execution_count": 65
        }
      ],
      "source": [
        "# We apply the Hadamard gate to the qubit\n",
        "qc.h(qubit) #qubit[0]seria si tuvieramos dos y lo aplicariamos al segundo\n",
        "\n",
        "# We could also apply the Hadamard gate to the qubit using the following syntax\n",
        "# qc.h(0) < Index of the qubit"
      ]
    },
    {
      "cell_type": "code",
      "execution_count": 66,
      "metadata": {
        "colab": {
          "base_uri": "https://localhost:8080/"
        },
        "id": "OG-zdlC2alBo",
        "outputId": "8f38431d-a6de-4a0e-e5a1-7a5e81744ac2"
      },
      "outputs": [
        {
          "output_type": "execute_result",
          "data": {
            "text/plain": [
              "<qiskit.circuit.instructionset.InstructionSet at 0x7e8ef66a0280>"
            ]
          },
          "metadata": {},
          "execution_count": 66
        }
      ],
      "source": [
        "# Finally, we measure the qubit into our bit\n",
        "qc.measure(qubit, bit) #qubit[0]seria si tuvieramos dos y lo aplicariamos al segundo\n",
        "# esto significa q quiero medir ese qubit y guardarlo en ese bit\n",
        "# Again, we could also measure the qubit into our bit using the following syntax\n",
        "# qc.measure(0, 0) < Index of the qubit and bit"
      ]
    },
    {
      "cell_type": "code",
      "execution_count": 67,
      "metadata": {
        "colab": {
          "base_uri": "https://localhost:8080/",
          "height": 94
        },
        "id": "FVrNb76BalBp",
        "outputId": "204e799a-baa2-4bde-d9fd-89a96ea6e10f"
      },
      "outputs": [
        {
          "output_type": "execute_result",
          "data": {
            "text/plain": [
              "           ┌───┐┌─┐\n",
              "our_qubit: ┤ H ├┤M├\n",
              "           └───┘└╥┘\n",
              "our_bit: 1/══════╩═\n",
              "                 0 "
            ],
            "text/html": [
              "<pre style=\"word-wrap: normal;white-space: pre;background: #fff0;line-height: 1.1;font-family: &quot;Courier New&quot;,Courier,monospace\">           ┌───┐┌─┐\n",
              "our_qubit: ┤ H ├┤M├\n",
              "           └───┘└╥┘\n",
              "our_bit: 1/══════╩═\n",
              "                 0 </pre>"
            ]
          },
          "metadata": {},
          "execution_count": 67
        }
      ],
      "source": [
        "# We can now visualize our circuit with:\n",
        "\n",
        "qc.draw() # If we dont have the visualization package"
      ]
    },
    {
      "cell_type": "code",
      "execution_count": 68,
      "metadata": {
        "colab": {
          "base_uri": "https://localhost:8080/",
          "height": 191
        },
        "id": "3_GMT9m_alBp",
        "outputId": "cdc9d3b3-9bf6-4b22-e30b-ad12af6e7719"
      },
      "outputs": [
        {
          "output_type": "execute_result",
          "data": {
            "text/plain": [
              "<Figure size 387.659x200.667 with 1 Axes>"
            ],
            "image/png": "[encoded data removed]"
          },
          "metadata": {},
          "execution_count": 68
        }
      ],
      "source": [
        "qc.draw(output='mpl') # If we do"
      ]
    },
    {
      "cell_type": "markdown",
      "metadata": {
        "id": "bS6NtyvUalBp"
      },
      "source": [
        "Great! We have our random bit generator.\n",
        "\n",
        "Now, this is of no use if we dont actually run it, so we will do this next!"
      ]
    },
    {
      "cell_type": "markdown",
      "metadata": {
        "id": "H2hgVWtFalBp"
      },
      "source": [
        "In Qiskit the service that runs circuits is called Qiskit Runtime, and it allows for two kinds of results:\n",
        "\n",
        "- Sampler te da una distribucion\n",
        "- Estimator este te da el expectation value (la media)\n",
        "\n",
        "They are essentially the same thing, they run our circuit and return a value, the only change is in how they return it:\n",
        "\n",
        "- The Sampler returns a distribution of the results given by our circuit.\n",
        "- The Estimator, returns the _Expectation value_ of our circuit instead. (We will see this in another class)\n",
        "\n",
        "Let's use the sampler for now."
      ]
    },
    {
      "cell_type": "code",
      "execution_count": 69,
      "metadata": {
        "id": "Iev17L79alBq"
      },
      "outputs": [],
      "source": [
        "# The part we dont care about now\n",
        "from qiskit_ibm_runtime import SamplerV2 as Sampler\n",
        "from qiskit_ibm_runtime.fake_provider import FakeManilaV2  #procesador cuantico\n",
        "from qiskit.transpiler.preset_passmanagers import generate_preset_pass_manager\n",
        "\n",
        "fake_manila = FakeManilaV2()\n",
        "pm = generate_preset_pass_manager(backend=fake_manila, optimization_level=1)"
      ]
    },
    {
      "cell_type": "code",
      "execution_count": 70,
      "metadata": {
        "colab": {
          "base_uri": "https://localhost:8080/"
        },
        "id": "WIOn3EslalBq",
        "outputId": "73f23e03-7b38-4d4d-c20a-e47cc3a3f421"
      },
      "outputs": [
        {
          "output_type": "execute_result",
          "data": {
            "text/plain": [
              "<qiskit_ibm_runtime.fake_provider.local_runtime_job.LocalRuntimeJob at 0x7e8ef4d2b3d0>"
            ]
          },
          "metadata": {},
          "execution_count": 70
        },
        {
          "output_type": "stream",
          "name": "stderr",
          "text": [
            "/usr/local/lib/python3.11/dist-packages/qiskit_ibm_runtime/fake_provider/fake_backend.py:468: RuntimeWarning: Aer not found, using qiskit.BasicSimulator and no noise.\n",
            "  warnings.warn(\n"
          ]
        }
      ],
      "source": [
        "# The part we care about now\n",
        "isa_qc = pm.run(qc)\n",
        "\n",
        "sampler = Sampler(mode=fake_manila)\n",
        "\n",
        "job = sampler.run([isa_qc], shots=1) #shots: cantidad de veces q lanzamos el circuito\n",
        "\n",
        "job"
      ]
    },
    {
      "cell_type": "code",
      "execution_count": 71,
      "metadata": {
        "colab": {
          "base_uri": "https://localhost:8080/"
        },
        "id": "PCfadrgTalBq",
        "outputId": "9fcc7299-1497-4dfe-a0f0-1d5d11725133"
      },
      "outputs": [
        {
          "output_type": "execute_result",
          "data": {
            "text/plain": [
              "<JobStatus.RUNNING: 'job is actively running'>"
            ]
          },
          "metadata": {},
          "execution_count": 71
        }
      ],
      "source": [
        "# Lets see if the job has finished\n",
        "job.status()"
      ]
    },
    {
      "cell_type": "code",
      "execution_count": 72,
      "metadata": {
        "colab": {
          "base_uri": "https://localhost:8080/"
        },
        "id": "_YdoLan7alBq",
        "outputId": "cd28e38a-da47-484e-b37e-b3e4453c7bb7"
      },
      "outputs": [
        {
          "output_type": "stream",
          "name": "stdout",
          "text": [
            "SamplerPubResult(data=DataBin(our_bit=BitArray(<shape=(), num_shots=1, num_bits=1>)), metadata={'shots': 1, 'circuit_metadata': {}})\n"
          ]
        }
      ],
      "source": [
        "# Lets get the results\n",
        "pub_result = job.result()[0]\n",
        "print(pub_result)"
      ]
    },
    {
      "cell_type": "code",
      "execution_count": 73,
      "metadata": {
        "colab": {
          "base_uri": "https://localhost:8080/"
        },
        "id": "AlP5_sy4alBr",
        "outputId": "ae471625-ec7e-45aa-d7e5-95ec2b126a0d"
      },
      "outputs": [
        {
          "output_type": "execute_result",
          "data": {
            "text/plain": [
              "{'1': 1}"
            ]
          },
          "metadata": {},
          "execution_count": 73
        }
      ],
      "source": [
        "pub_result.data.our_bit.get_counts() # el uno es que ha salido una vez"
      ]
    },
    {
      "cell_type": "code",
      "source": [
        "qc.draw()"
      ],
      "metadata": {
        "colab": {
          "base_uri": "https://localhost:8080/",
          "height": 94
        },
        "id": "89ORRqVTkJTP",
        "outputId": "067cc136-f1c1-44df-f54d-405f9f794d7d"
      },
      "execution_count": 74,
      "outputs": [
        {
          "output_type": "execute_result",
          "data": {
            "text/plain": [
              "           ┌───┐┌─┐\n",
              "our_qubit: ┤ H ├┤M├\n",
              "           └───┘└╥┘\n",
              "our_bit: 1/══════╩═\n",
              "                 0 "
            ],
            "text/html": [
              "<pre style=\"word-wrap: normal;white-space: pre;background: #fff0;line-height: 1.1;font-family: &quot;Courier New&quot;,Courier,monospace\">           ┌───┐┌─┐\n",
              "our_qubit: ┤ H ├┤M├\n",
              "           └───┘└╥┘\n",
              "our_bit: 1/══════╩═\n",
              "                 0 </pre>"
            ]
          },
          "metadata": {},
          "execution_count": 74
        }
      ]
    },
    {
      "cell_type": "code",
      "execution_count": 75,
      "metadata": {
        "colab": {
          "base_uri": "https://localhost:8080/"
        },
        "id": "XY_DeZtDalBr",
        "outputId": "f85aa57d-5d6e-4937-e0f4-ef0847b80d57"
      },
      "outputs": [
        {
          "output_type": "stream",
          "name": "stdout",
          "text": [
            "SamplerPubResult(data=DataBin(our_bit=BitArray(<shape=(), num_shots=100, num_bits=1>)), metadata={'shots': 100, 'circuit_metadata': {}})\n"
          ]
        },
        {
          "output_type": "stream",
          "name": "stderr",
          "text": [
            "/usr/local/lib/python3.11/dist-packages/qiskit_ibm_runtime/fake_provider/fake_backend.py:468: RuntimeWarning: Aer not found, using qiskit.BasicSimulator and no noise.\n",
            "  warnings.warn(\n"
          ]
        },
        {
          "output_type": "execute_result",
          "data": {
            "text/plain": [
              "{'0': 46, '1': 54}"
            ]
          },
          "metadata": {},
          "execution_count": 75
        }
      ],
      "source": [
        "# Now, can you run this circuit 10, 100, 1000 times and see if the results are what you expect?\n",
        "\n",
        "# << Your code here >>\n",
        "# The part we dont care about now\n",
        "# Solo hace falta volver a copiar el compilador\n",
        "sampler = Sampler(mode=fake_manila)\n",
        "\n",
        "job = sampler.run([isa_qc], shots=100) #shots: cantidad de veces q lanzamos el circuito\n",
        "\n",
        "job\n",
        "# Lets see if the job has finished\n",
        "job.status()\n",
        "# Lets get the results\n",
        "pub_result = job.result()[0]\n",
        "print(pub_result)\n",
        "pub_result.data.our_bit.get_counts() # el uno es la probabilidad"
      ]
    },
    {
      "cell_type": "markdown",
      "metadata": {
        "id": "JEhp7gQralBr"
      },
      "source": [
        "---\n",
        "\n",
        "### Bell States\n",
        "\n",
        "Your task, program the simplest Bell State Circuit"
      ]
    },
    {
      "cell_type": "code",
      "execution_count": 83,
      "metadata": {
        "id": "UUg2zBb-alBr",
        "colab": {
          "base_uri": "https://localhost:8080/",
          "height": 255
        },
        "outputId": "bc5a5c32-94cf-4766-817a-b741b18ce295"
      },
      "outputs": [
        {
          "output_type": "execute_result",
          "data": {
            "text/plain": [
              "<Figure size 518.42x284.278 with 1 Axes>"
            ],
            "image/png": "[encoded data removed]"
          },
          "metadata": {},
          "execution_count": 83
        }
      ],
      "source": [
        "qubit = QuantumRegister(2, 'q') #qubits cuanticos\n",
        "bit = ClassicalRegister(2, 'our_bit') #bits clasicos\n",
        "qc = QuantumCircuit(qubit, bit) # con (1,1) tambien funciona primero qubits segundo bits clasicos\n",
        "qc.h(qubit[0]) #qubit[0]seria si tuvieramos dos y lo aplicariamos al segundo\n",
        "qc.cx(0,1) # q0 es el cubit de control y q1 el que actua\n",
        "qc.measure(0,0)\n",
        "qc.measure(1,1)\n",
        "#tambien puede hacerse como -> qc.measure([0,0],[1,1]) el primer corchete son los cubits y el segundo los bits donde se guardan.\n",
        "#Cada cubit tiene un bit asociado\n",
        "\n",
        "qc.draw(output='mpl')"
      ]
    }
  ],
  "metadata": {
    "kernelspec": {
      "display_name": ".venv",
      "language": "python",
      "name": "python3"
    },
    "language_info": {
      "codemirror_mode": {
        "name": "ipython",
        "version": 3
      },
      "file_extension": ".py",
      "mimetype": "text/x-python",
      "name": "python",
      "nbconvert_exporter": "python",
      "pygments_lexer": "ipython3",
      "version": "3.13.1"
    },
    "colab": {
      "provenance": [],
      "include_colab_link": true
    }
  },
  "nbformat": 4,
  "nbformat_minor": 0
}